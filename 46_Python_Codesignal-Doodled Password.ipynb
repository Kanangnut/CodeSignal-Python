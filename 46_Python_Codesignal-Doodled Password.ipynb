{
 "cells": [
  {
   "cell_type": "markdown",
   "metadata": {},
   "source": [
    "Implement the missing code, denoted by ellipses. You may not modify the pre-existing code.\n",
    "Your friend has been doodling during the lecture and wrote down several digits in a circle. You're wondering if these digits might form the password to your friend's computer. You're planning to prank him some time in the future, and hacking into his computer will definitely help. If the digits written in the clockwise order indeed form a password, all you need to do is figure out which digit comes in it first.\n",
    "\n",
    "Given a list of digits as they are written in the clockwise order, find all other combinations the password could possibly have.\n",
    "\n",
    "Example\n",
    "\n",
    "For digits = [1, 2, 3, 4, 5], the output should be\n",
    "\n",
    "solution(digits) = [[1, 2, 3, 4, 5], [2, 3, 4, 5, 1], [3, 4, 5, 1, 2],\n",
    "                    [4, 5, 1, 2, 3], [5, 1, 2, 3, 4]]\n",
    "Here's what your friend wrote down:\n",
    "\n",
    "\n",
    "\n",
    "Input/Output\n",
    "\n",
    "[execution time limit] 4 seconds (py3)\n",
    "\n",
    "[memory limit] 1 GB\n",
    "\n",
    "[input] array.integer digits\n",
    "\n",
    "The list of digits your friend wrote down.\n",
    "\n",
    "Guaranteed constraints:\n",
    "1 ≤ digits.length ≤ 20,\n",
    "0 ≤ digits[i] ≤ 9.\n",
    "\n",
    "[output] array.array.integer\n",
    "\n",
    "All possible password combinations in the following order: first the combination starting with digits[0] should go, then the one starting with digits[1], etc. The last combination should start with digits[digits.length - 1]\n",
    "\n",
    "[Python 3] Syntax Tips\n",
    "\n",
    "# Prints help message to the console\n",
    "# Returns a string\n",
    "def helloWorld(name):\n",
    "    print(\"This prints to the console when you Run Tests\")\n",
    "    return \"Hello, \" + name\n"
   ]
  },
  {
   "cell_type": "code",
   "execution_count": null,
   "metadata": {
    "vscode": {
     "languageId": "plaintext"
    }
   },
   "outputs": [],
   "source": [
    "from collections import deque\n",
    "\n",
    "def solution(digits):\n",
    "    n = len(digits)\n",
    "    res = [deque(digits) for _ in range(n)]\n",
    "    deque(map(lambda x: x[1].rotate(-x[0]), enumerate(res)), 0)\n",
    "    return [list(d) for d in res]\n"
   ]
  }
 ],
 "metadata": {
  "kernelspec": {
   "display_name": "Python 3",
   "language": "python",
   "name": "python3"
  },
  "language_info": {
   "codemirror_mode": {
    "name": "ipython",
    "version": 3
   },
   "file_extension": ".py",
   "mimetype": "text/x-python",
   "name": "python",
   "nbconvert_exporter": "python",
   "pygments_lexer": "ipython3",
   "version": "3.11.2"
  },
  "orig_nbformat": 4
 },
 "nbformat": 4,
 "nbformat_minor": 2
}
