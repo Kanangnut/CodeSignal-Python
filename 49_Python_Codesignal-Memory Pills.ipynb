{
 "cells": [
  {
   "cell_type": "code",
   "execution_count": null,
   "metadata": {},
   "outputs": [],
   "source": [
    "Implement the missing code, denoted by ellipses. You may not modify the pre-existing code.\n",
    "Not long ago Greg noticed that he started to forget things, and hurried to the doctor. The doc told him that it was perfectly normal for his age, and wrote down a list of pills that Greg can take in order to improve his memory. He especially recommended one medicine as the most effective one.\n",
    "\n",
    "Unfortunately Greg forgot which medicine is the most effective, and he feels like he really needs to take them. Greg recalls that the name of the most effective medicine goes in the list somewhere after the very first name that has an even length. Your task is to help Greg: given the list of the pills, return a list of three names that go right after the very first medicine name of the even length.\n",
    "\n",
    "If there are less than three medicines to return, return empty strings instead of them.\n",
    "\n",
    "Example\n",
    "\n",
    "For pills = [\"Notforgetan\", \"Antimoron\", \"Rememberin\", \"Bestmedicen\", \"Superpillsus\"],\n",
    "the output should be\n",
    "solution(pills) = [\"Bestmedicen\", \"Superpillsus\", \"\"].\n",
    "\n",
    "Input/Output\n",
    "\n",
    "[execution time limit] 4 seconds (py3)\n",
    "\n",
    "[memory limit] 1 GB\n",
    "\n",
    "[input] array.string pills\n",
    "\n",
    "Array of medicaments written in Greg's prescription. Each title in the list can consist of English letters, digits and whitespace characters.\n",
    "It is guaranteed that at least one title in the list has an even length.\n",
    "\n",
    "Guaranteed constraints:\n",
    "1 ≤ pills.length ≤ 10,\n",
    "2 ≤ pills[i].length ≤ 30.\n",
    "\n",
    "[output] array.string\n",
    "\n",
    "A list of 3 elements.\n",
    "\n",
    "[Python 3] Syntax Tips\n",
    "\n",
    "# Prints help message to the console\n",
    "# Returns a string\n",
    "def helloWorld(name):\n",
    "    print(\"This prints to the console when you Run Tests\")\n",
    "    return \"Hello, \" + name"
   ]
  },
  {
   "cell_type": "code",
   "execution_count": null,
   "metadata": {},
   "outputs": [],
   "source": [
    "from itertools import dropwhile\n",
    "\n",
    "def solution(pills):\n",
    "    gen = dropwhile(lambda x: len(x) % 2 > 0, pills + [\"\", \"\", \"\"])\n",
    "    next(gen)\n",
    "    return [next(gen) for _ in range(3)]"
   ]
  }
 ],
 "metadata": {
  "kernelspec": {
   "display_name": "Python 3",
   "language": "python",
   "name": "python3"
  },
  "language_info": {
   "codemirror_mode": {
    "name": "ipython",
    "version": 3
   },
   "file_extension": ".py",
   "mimetype": "text/x-python",
   "name": "python",
   "nbconvert_exporter": "python",
   "pygments_lexer": "ipython3",
   "version": "3.11.2"
  },
  "orig_nbformat": 4
 },
 "nbformat": 4,
 "nbformat_minor": 2
}
