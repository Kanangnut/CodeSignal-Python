{
 "cells": [
  {
   "cell_type": "markdown",
   "metadata": {},
   "source": []
  },
  {
   "cell_type": "code",
   "execution_count": null,
   "metadata": {},
   "outputs": [],
   "source": [
    "#Which of the fiven string definitions are incorrect?\n",
    "1. s = 'abacaba'\n",
    "2. s = \"abacaba\"\n",
    "3. s = ''abacaba''\n",
    "4. s = \"\"abacaba\"\"\n",
    "5. s = '''abacaba'''\n",
    "6. s = \"\"\"abacaba\"\"\"\n",
    "\n",
    "#Ans 3 and 4"
   ]
  }
 ],
 "metadata": {
  "language_info": {
   "name": "python"
  },
  "orig_nbformat": 4
 },
 "nbformat": 4,
 "nbformat_minor": 2
}
