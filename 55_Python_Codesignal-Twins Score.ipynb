{
 "cells": [
  {
   "cell_type": "code",
   "execution_count": null,
   "metadata": {},
   "outputs": [],
   "source": [
    "Implement the missing code, denoted by ellipses. You may not modify the pre-existing code.\n",
    "Billy and Mandy are twins, and as such they do everything together. Unfortunately during the finals they were forced to write their exams separately, which explains why they got such low scores. However, they are not too sad about it: since they are twins, it's only natural for them to work together, so they are going to sum up their scores for each exam and show them to their mom.\n",
    "\n",
    "Given two lists of equal size representing the scores Billy and Mandy got for each exam (b and m, respectively), return a single list containing their combined score.\n",
    "\n",
    "Example\n",
    "\n",
    "For b = [22, 13, 45, 32] and m = [28, 41, 13, 32],\n",
    "the output should be\n",
    "solution(b, m) = [50, 54, 58, 64].\n",
    "\n",
    "Input/Output\n",
    "\n",
    "[execution time limit] 4 seconds (py3)\n",
    "\n",
    "[memory limit] 1 GB\n",
    "\n",
    "[input] array.integer b\n",
    "\n",
    "The scores Billy got during the finals.\n",
    "\n",
    "Guaranteed constraints:\n",
    "1 ≤ b.length ≤ 20,\n",
    "0 ≤ b[i] ≤ 100.\n",
    "\n",
    "[input] array.integer m\n",
    "\n",
    "The scores Mandy got during the finals.\n",
    "\n",
    "Guaranteed constraints:\n",
    "m.length = b.length,\n",
    "0 ≤ m[i] ≤ 100.\n",
    "\n",
    "[output] array.integer\n",
    "\n",
    "The total scores the twins got during the finals.\n",
    "\n",
    "[Python 3] Syntax Tips\n",
    "\n",
    "# Prints help message to the console\n",
    "# Returns a string\n",
    "def helloWorld(name):\n",
    "    print(\"This prints to the console when you Run Tests\")\n",
    "    return \"Hello, \" + name\n"
   ]
  },
  {
   "cell_type": "code",
   "execution_count": null,
   "metadata": {},
   "outputs": [],
   "source": [
    "def solution(b, m):\n",
    "    return list(map(sum, zip(b, m)))\n"
   ]
  },
  {
   "cell_type": "markdown",
   "metadata": {},
   "source": [
    "When we use list, map, sum, zip?\n",
    "Certainly! Let's break down the usage of list, map, sum, and zip:\n",
    "\n",
    "list: The list() function is used to create a new list. In the context of the code you provided, it's used to convert the result of map into a list so that the final result can be a list. Without list(), the result would be a map object, which isn't directly serializable to JSON.\n",
    "\n",
    "map: The map() function is used to apply a given function to each item of an iterable (e.g., a list) and returns a map object (an iterator) that contains the results. In your code, map(sum, zip(b, m)) applies the sum function to each pair of elements from the zip(b, m) operation.\n",
    "\n",
    "sum: The sum() function is used to calculate the sum of all the elements in an iterable, such as a list or tuple. In this case, it's used to calculate the sum of pairs of elements from zip(b, m).\n",
    "\n",
    "zip: The zip() function is used to combine two or more iterables (e.g., lists) element-wise, creating an iterator of tuples where each tuple contains elements from the input iterables at the same position. In your code, zip(b, m) combines the elements of two lists b and m element-wise, allowing you to perform operations on pairs of elements.\n",
    "\n",
    "So, in your code, you're using zip to combine the elements of b and m, map to apply the sum function to each pair of elements, and list to convert the result into a list for easier serialization to JSON."
   ]
  },
  {
   "cell_type": "markdown",
   "metadata": {},
   "source": []
  }
 ],
 "metadata": {
  "kernelspec": {
   "display_name": "Python 3",
   "language": "python",
   "name": "python3"
  },
  "language_info": {
   "codemirror_mode": {
    "name": "ipython",
    "version": 3
   },
   "file_extension": ".py",
   "mimetype": "text/x-python",
   "name": "python",
   "nbconvert_exporter": "python",
   "pygments_lexer": "ipython3",
   "version": "3.11.2"
  },
  "orig_nbformat": 4
 },
 "nbformat": 4,
 "nbformat_minor": 2
}
