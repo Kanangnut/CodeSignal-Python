{
 "cells": [
  {
   "cell_type": "markdown",
   "metadata": {},
   "source": [
    "Implement the missing code, denoted by ellipses. You may not modify the pre-existing code.\n",
    "You were supposed to prepare a presentation about lists in Python, but totally forgot about it. Now that you don't have enough time for it, you decide to show some usage examples instead and say with the poker face that this is how you understood the assignment.\n",
    "\n",
    "Now you need to implement a function that will display a list in the console. Implement a function that, given a list lst, will return it as a string as follows: \"This is your list: lst\".\n",
    "\n",
    "Example\n",
    "\n",
    "For lst = [1, 2, 3, 4, 5], the output should be\n",
    "solution(lst) = \"This is your list: [1, 2, 3, 4, 5]\".\n",
    "\n",
    "Input/Output\n",
    "\n",
    "[execution time limit] 4 seconds (py3)\n",
    "\n",
    "[memory limit] 1 GB\n",
    "\n",
    "[input] array.integer lst\n",
    "\n",
    "A list containing integer values.\n",
    "\n",
    "Guaranteed constraints:\n",
    "0 ≤ lst.length ≤ 50,\n",
    "-100 ≤ lst[i] ≤ 100.\n",
    "\n",
    "[output] string\n",
    "\n",
    "A string containing information about lst.\n",
    "\n",
    "[Python 3] Syntax Tips\n",
    "\n",
    "# Prints help message to the console\n",
    "# Returns a string\n",
    "def helloWorld(name):\n",
    "    print(\"This prints to the console when you Run Tests\")\n",
    "    return \"Hello, \" + name"
   ]
  },
  {
   "cell_type": "code",
   "execution_count": 1,
   "metadata": {},
   "outputs": [],
   "source": [
    "def solution(lst):\n",
    "    return \"This is your list: {}\".format(lst, )"
   ]
  }
 ],
 "metadata": {
  "kernelspec": {
   "display_name": "Python 3",
   "language": "python",
   "name": "python3"
  },
  "language_info": {
   "codemirror_mode": {
    "name": "ipython",
    "version": 3
   },
   "file_extension": ".py",
   "mimetype": "text/x-python",
   "name": "python",
   "nbconvert_exporter": "python",
   "pygments_lexer": "ipython3",
   "version": "3.11.2"
  },
  "orig_nbformat": 4
 },
 "nbformat": 4,
 "nbformat_minor": 2
}
