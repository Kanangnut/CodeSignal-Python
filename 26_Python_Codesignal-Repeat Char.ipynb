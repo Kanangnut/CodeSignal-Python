{
 "cells": [
  {
   "cell_type": "markdown",
   "metadata": {},
   "source": [
    "Implement the missing code, denoted by ellipses. You may not modify the pre-existing code.\n",
    "To make debug output more understandable, you often separate sets of logs by a single line of the same character. Since you use this method very often, you'd like to write a function that would handle printing the separator.\n",
    "\n",
    "Implement a function that, given a character ch and the number of times it should be repeated n, returns a string of n characters ch.\n",
    "\n",
    "Example\n",
    "\n",
    "For ch = '*' and n = 20, the output should be\n",
    "solution(ch, n) = \"********************\".\n",
    "\n",
    "Input/Output\n",
    "\n",
    "[execution time limit] 4 seconds (py3)\n",
    "\n",
    "[memory limit] 1 GB\n",
    "\n",
    "[input] char ch\n",
    "\n",
    "The character that should be repeated.\n",
    "\n",
    "[input] integer n\n",
    "\n",
    "The number of times the given character should be repeated.\n",
    "\n",
    "Guaranteed constraints:\n",
    "1 ≤ n ≤ 100.\n",
    "\n",
    "[output] string\n",
    "\n",
    "A string consisting of n characters ch.\n",
    "\n",
    "[Python 3] Syntax Tips\n",
    "\n",
    "# Prints help message to the console\n",
    "# Returns a string\n",
    "def helloWorld(name):\n",
    "    print(\"This prints to the console when you Run Tests\")\n",
    "    return \"Hello, \" + name"
   ]
  },
  {
   "cell_type": "code",
   "execution_count": 1,
   "metadata": {},
   "outputs": [],
   "source": [
    "solution = lambda ch, n: ch*n"
   ]
  }
 ],
 "metadata": {
  "kernelspec": {
   "display_name": "Python 3",
   "language": "python",
   "name": "python3"
  },
  "language_info": {
   "codemirror_mode": {
    "name": "ipython",
    "version": 3
   },
   "file_extension": ".py",
   "mimetype": "text/x-python",
   "name": "python",
   "nbconvert_exporter": "python",
   "pygments_lexer": "ipython3",
   "version": "3.11.2"
  },
  "orig_nbformat": 4
 },
 "nbformat": 4,
 "nbformat_minor": 2
}
