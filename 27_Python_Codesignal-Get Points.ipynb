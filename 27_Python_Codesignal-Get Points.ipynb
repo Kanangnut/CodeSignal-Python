{
 "cells": [
  {
   "cell_type": "markdown",
   "metadata": {},
   "source": [
    "Implement the missing code, denoted by ellipses. You may not modify the pre-existing code.\n",
    "A new scoring system was introduced in your university: from now on, each test will consist of the predefined list of questions, and for the ith (1-based) question a student either gets i points, or loses p points as a penalty.\n",
    "\n",
    "Your task is to calculate the number of points a student got for some test. Implement a function that would calculate the number of points received for the test based on the given list of answers.\n",
    "\n",
    "Example\n",
    "\n",
    "For answers = [true, true, false, true]and p = 2, the output should be\n",
    "solution(answers, p) = 5.\n",
    "\n",
    "Here's why: 1 + 2 - 2 + 4 = 5.\n",
    "\n",
    "Input/Output\n",
    "\n",
    "[execution time limit] 4 seconds (py3)\n",
    "\n",
    "[memory limit] 1 GB\n",
    "\n",
    "[input] array.boolean answers\n",
    "\n",
    "Array of student's answers. answers[i] is true if the student answered the (i + 1)th question correctly, and false otherwise.\n",
    "\n",
    "Guaranteed constraints:\n",
    "1 ≤ answers.length ≤ 20.\n",
    "\n",
    "[input] integer p\n",
    "\n",
    "The number of points subtracted from the final score for each incorrect result.\n",
    "\n",
    "Guaranteed constraints:\n",
    "0 ≤ p ≤ 10.\n",
    "\n",
    "[output] integer\n",
    "\n",
    "The number of points the student received for the test.\n",
    "\n",
    "[Python 3] Syntax Tips\n",
    "\n",
    "# Prints help message to the console\n",
    "# Returns a string\n",
    "def helloWorld(name):\n",
    "    print(\"This prints to the console when you Run Tests\")\n",
    "    return \"Hello, \" + name"
   ]
  },
  {
   "cell_type": "code",
   "execution_count": 1,
   "metadata": {},
   "outputs": [],
   "source": [
    "def solution(answers, p):\n",
    "    questionPoints = lambda i, ans: i + 1 if ans else -p\n",
    "\n",
    "    res = 0\n",
    "    for i, ans in enumerate(answers):\n",
    "        res += questionPoints(i, ans)\n",
    "    return res\n"
   ]
  }
 ],
 "metadata": {
  "kernelspec": {
   "display_name": "Python 3",
   "language": "python",
   "name": "python3"
  },
  "language_info": {
   "codemirror_mode": {
    "name": "ipython",
    "version": 3
   },
   "file_extension": ".py",
   "mimetype": "text/x-python",
   "name": "python",
   "nbconvert_exporter": "python",
   "pygments_lexer": "ipython3",
   "version": "3.11.2"
  },
  "orig_nbformat": 4
 },
 "nbformat": 4,
 "nbformat_minor": 2
}
