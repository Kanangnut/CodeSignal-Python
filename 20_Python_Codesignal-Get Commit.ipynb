{
 "cells": [
  {
   "cell_type": "markdown",
   "metadata": {},
   "source": [
    "Implement the missing code, denoted by ellipses. You may not modify the pre-existing code.\n",
    "The Abanamama Version System (AVS) is a software versioning and revision control system used in highly secure environments. In this system, each commit is assigned a unique name, the first part of which consists of the username encrypted in the base-4 system using symbols '0', '?', '+', and '!', and the second part consists of symbols of English alphabet.\n",
    "\n",
    "Given such commit, your task is go remove the username part from it and return the second part as an answer.\n",
    "\n",
    "Example\n",
    "\n",
    "For commit = \"0??+0+!!someCommIdhsSt\", the output should be\n",
    "solution(commit) = \"someCommIdhsSt\".\n",
    "\n",
    "Input/Output\n",
    "\n",
    "[execution time limit] 4 seconds (py3)\n",
    "\n",
    "[memory limit] 1 GB\n",
    "\n",
    "[input] string commit\n",
    "\n",
    "Commit in the format given above. Note, that it is possible that it doesn't contain the first or the second part.\n",
    "\n",
    "Guaranteed constraints:\n",
    "5 ≤ commit.length ≤ 45.\n",
    "\n",
    "[output] string\n",
    "\n",
    "The second part of the commit.\n",
    "\n",
    "[Python 3] Syntax Tips\n",
    "\n",
    "# Prints help message to the console\n",
    "# Returns a string\n",
    "def helloWorld(name):\n",
    "    print(\"This prints to the console when you Run Tests\")\n",
    "    return \"Hello, \" + name"
   ]
  },
  {
   "cell_type": "code",
   "execution_count": 1,
   "metadata": {},
   "outputs": [],
   "source": [
    "Implement the missing code, denoted by ellipses. You may not modify the pre-existing code.\n",
    "The Abanamama Version System (AVS) is a software versioning and revision control system used in highly secure environments. In this system, each commit is assigned a unique name, the first part of which consists of the username encrypted in the base-4 system using symbols '0', '?', '+', and '!', and the second part consists of symbols of English alphabet.\n",
    "\n",
    "Given such commit, your task is go remove the username part from it and return the second part as an answer.\n",
    "\n",
    "Example\n",
    "\n",
    "For commit = \"0??+0+!!someCommIdhsSt\", the output should be\n",
    "solution(commit) = \"someCommIdhsSt\".\n",
    "\n",
    "Input/Output\n",
    "\n",
    "[execution time limit] 4 seconds (py3)\n",
    "\n",
    "[memory limit] 1 GB\n",
    "\n",
    "[input] string commit\n",
    "\n",
    "Commit in the format given above. Note, that it is possible that it doesn't contain the first or the second part.\n",
    "\n",
    "Guaranteed constraints:\n",
    "5 ≤ commit.length ≤ 45.\n",
    "\n",
    "[output] string\n",
    "\n",
    "The second part of the commit.\n",
    "\n",
    "[Python 3] Syntax Tips\n",
    "\n",
    "# Prints help message to the console\n",
    "# Returns a string\n",
    "def helloWorld(name):\n",
    "    print(\"This prints to the console when you Run Tests\")\n",
    "    return \"Hello, \" + name"
   ]
  },
  {
   "cell_type": "code",
   "execution_count": null,
   "metadata": {},
   "outputs": [],
   "source": [
    "def solution(commit):\n",
    "    return ''.join([i for i in commit if i not in ['0', '?', '+', '!']])"
   ]
  }
 ],
 "metadata": {
  "kernelspec": {
   "display_name": "Python 3",
   "language": "python",
   "name": "python3"
  },
  "language_info": {
   "codemirror_mode": {
    "name": "ipython",
    "version": 3
   },
   "file_extension": ".py",
   "mimetype": "text/x-python",
   "name": "python",
   "nbconvert_exporter": "python",
   "pygments_lexer": "ipython3",
   "version": "3.11.2"
  },
  "orig_nbformat": 4
 },
 "nbformat": 4,
 "nbformat_minor": 2
}
