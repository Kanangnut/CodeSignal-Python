{
 "cells": [
  {
   "cell_type": "markdown",
   "metadata": {},
   "source": []
  },
  {
   "cell_type": "markdown",
   "metadata": {},
   "source": [
    "Transpose Dictionary\n",
    "\n",
    "\n",
    "Implement the missing code, denoted by ellipses. You may not modify the pre-existing code.\n",
    "You're implementing a plugin for your favorite code editor. This plugin launches various scripts depending on the open file extension. Each script is associated with exactly one extension, and the information about which script should be launched for each extension is stored in a dictionary scriptByExtension.\n",
    "\n",
    "You are planning to add more supported extensions for some scripts, so now you would also like to store information about the extensions which each script supports. As a starting point, you'd like to obtain the (extension, script) pairs from the dictionary, sorted lexicographically by the extensions.\n",
    "\n",
    "Implement a function that will do the job.\n",
    "\n",
    "Example\n",
    "\n",
    "For\n",
    "\n",
    "scriptByExtension = {\n",
    "  \"validate\": \"py\",\n",
    "  \"getLimits\": \"md\",\n",
    "  \"generateOutputs\": \"json\"\n",
    "}\n",
    "the output should be\n",
    "\n",
    "solution(scriptByExtension) = [[\"json\", \"generateOutputs\"], \n",
    "                               [\"md\", \"getLimits\"], \n",
    "                               [\"py\", \"validate\"]]\n",
    "Input/Output\n",
    "\n",
    "[execution time limit] 4 seconds (py3)\n",
    "\n",
    "[memory limit] 1 GB\n",
    "\n",
    "[input] dictionary scriptByExtension\n",
    "\n",
    "The initial dictionary. Both keys and values of the dictionary are guaranteed to be strings that contain only English letters. It is also guaranteed that all dictionary values are unique.\n",
    "\n",
    "Guaranteed constraints:\n",
    "0 ≤ scriptByExtension.length ≤ 10.\n",
    "\n",
    "[output] array.array.string\n",
    "\n",
    "Array of pairs [extension, script], sorted lexicographically by the extension.\n",
    "\n",
    "[Python 3] Syntax Tips\n",
    "\n",
    "# Prints help message to the console\n",
    "# Returns a string\n",
    "def helloWorld(name):\n",
    "    print(\"This prints to the console when you Run Tests\")\n",
    "    return \"Hello, \" + name\n"
   ]
  },
  {
   "cell_type": "code",
   "execution_count": null,
   "metadata": {
    "vscode": {
     "languageId": "plaintext"
    }
   },
   "outputs": [],
   "source": [
    "def solution(scriptByExtension):\n",
    "    return sorted([[y,x] for x,y in scriptByExtension.items()])\n"
   ]
  }
 ],
 "metadata": {
  "kernelspec": {
   "display_name": "Python 3",
   "language": "python",
   "name": "python3"
  },
  "language_info": {
   "codemirror_mode": {
    "name": "ipython",
    "version": 3
   },
   "file_extension": ".py",
   "mimetype": "text/x-python",
   "name": "python",
   "nbconvert_exporter": "python",
   "pygments_lexer": "ipython3",
   "version": "3.11.2"
  },
  "orig_nbformat": 4
 },
 "nbformat": 4,
 "nbformat_minor": 2
}
