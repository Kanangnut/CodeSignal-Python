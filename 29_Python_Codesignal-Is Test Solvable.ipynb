{
 "cells": [
  {
   "cell_type": "markdown",
   "metadata": {},
   "source": [
    "Implement the missing code, denoted by ellipses. You may not modify the pre-existing code.\n",
    "You've been preparing all night for the upcoming test and entered the class certain that you will ace it. Now that you received the test questions, you died inside a little: looks like you prepared for the test on a completely different topic.\n",
    "\n",
    "You're not even sure if you should bother to answer the questions. You still have some hope though: it is known that there's a glitch in the test preparing system, so that if the sum of digits of question ids is divisible by k, the answer to each question has a 90% probability to be an A.\n",
    "\n",
    "Given the list of question ids, determine if the sum of their digits is divisible by k to see if it's worth trying to pass the test.\n",
    "\n",
    "Example\n",
    "\n",
    "For ids = [529665, 909767, 644200] and k = 3, the output should be\n",
    "solution(ids, k) = true.\n",
    "\n",
    "The sum of digits is\n",
    "\n",
    "(5 + 2 + 9 + 6 + 6 + 5) + (9 + 0 + 9 + 7 + 6 + 7) + (6 + 4 + 4 + 2 + 0 + 0) = 87\n",
    "which is divisible by 3. Today is your lucky day after all!\n",
    "\n",
    "Input/Output\n",
    "\n",
    "[execution time limit] 4 seconds (py3)\n",
    "\n",
    "[memory limit] 1 GB\n",
    "\n",
    "[input] array.integer ids\n",
    "\n",
    "Array of unique question ids.\n",
    "\n",
    "Guaranteed constraints:\n",
    "1 ≤ ids.length ≤ 50,\n",
    "0 ≤ ids[i] ≤ 106.\n",
    "\n",
    "[input] integer k\n",
    "\n",
    "The number that causes a glitch in the test preparing system.\n",
    "\n",
    "Guaranteed constraints:\n",
    "2 ≤ k ≤ 10.\n",
    "\n",
    "[output] boolean\n",
    "\n",
    "true if the total sum of digits in ids is divisible by k, false otherwise.\n",
    "\n",
    "[Python 3] Syntax Tips\n",
    "\n",
    "# Prints help message to the console\n",
    "# Returns a string\n",
    "def helloWorld(name):\n",
    "    print(\"This prints to the console when you Run Tests\")\n",
    "    return \"Hello, \" + name"
   ]
  },
  {
   "cell_type": "code",
   "execution_count": 1,
   "metadata": {},
   "outputs": [],
   "source": [
    "def solution(ids, k):\n",
    "    digitSum = lambda id: sum(int(x) for x in str(id))\n",
    "\n",
    "    sm = 0\n",
    "    for questionId in ids:\n",
    "        sm += digitSum(questionId)\n",
    "    return sm % k == 0"
   ]
  }
 ],
 "metadata": {
  "kernelspec": {
   "display_name": "Python 3",
   "language": "python",
   "name": "python3"
  },
  "language_info": {
   "codemirror_mode": {
    "name": "ipython",
    "version": 3
   },
   "file_extension": ".py",
   "mimetype": "text/x-python",
   "name": "python",
   "nbconvert_exporter": "python",
   "pygments_lexer": "ipython3",
   "version": "3.11.2"
  },
  "orig_nbformat": 4
 },
 "nbformat": 4,
 "nbformat_minor": 2
}
