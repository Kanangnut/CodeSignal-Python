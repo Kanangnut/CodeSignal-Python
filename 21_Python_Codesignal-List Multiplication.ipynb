{
 "cells": [
  {
   "cell_type": "markdown",
   "metadata": {},
   "source": [
    "You've come across the follwing piece of code:\n",
    "c = a *b\n",
    "Could the following be possition outcomes?\n",
    "1. c is list a repeated b times.\n",
    "2. c is list b repeated a times.\n",
    "\n",
    "Pls select 1 option:\n",
    "A. No to both options\n",
    "B. Yes to option 1, no to option 2.\n",
    "C. Yes to both options\n",
    "D.  Yes to option 2, no to option 1."
   ]
  },
  {
   "cell_type": "markdown",
   "metadata": {},
   "source": [
    "The code c = a * b multiplies two variables a and b. In Python, when you use the * operator with lists, it performs repetition. So, the possible outcomes are:\n",
    "\n",
    "c is a list a repeated b times.\n",
    "c is a list b repeated a times.\n",
    "Therefore, the correct option is:\n",
    "\n",
    "C. Yes to both options"
   ]
  }
 ],
 "metadata": {
  "kernelspec": {
   "display_name": "Python 3",
   "language": "python",
   "name": "python3"
  },
  "language_info": {
   "codemirror_mode": {
    "name": "ipython",
    "version": 3
   },
   "file_extension": ".py",
   "mimetype": "text/x-python",
   "name": "python",
   "nbconvert_exporter": "python",
   "pygments_lexer": "ipython3",
   "version": "3.11.2"
  },
  "orig_nbformat": 4
 },
 "nbformat": 4,
 "nbformat_minor": 2
}
