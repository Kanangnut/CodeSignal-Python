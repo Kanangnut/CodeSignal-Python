{
 "cells": [
  {
   "cell_type": "markdown",
   "metadata": {},
   "source": [
    "Implement the missing code, denoted by ellipses. You may not modify the pre-existing code.\n",
    "A 2D list lst of size 2 * n - 1 is called a shell if it is filled with zeros and has the following configuration:\n",
    "\n",
    "lst[0] contains one element;\n",
    "lst[1] contains two elements;\n",
    "...\n",
    "lst[n - 2] contains n - 1 elements;\n",
    "lst[n - 1] contains n elements;\n",
    "lst[n] contains n - 1 elements;\n",
    "...\n",
    "lst[2 * n - 3] contains two elements;\n",
    "lst[2 * n - 2] contains one element.\n",
    "Given an integer n, return a shell list.\n",
    "\n",
    "Example\n",
    "\n",
    "For n = 3, the output should be\n",
    "\n",
    "solution(n) = [[0],\n",
    "               [0, 0],\n",
    "               [0, 0, 0],\n",
    "               [0, 0],\n",
    "               [0]]\n",
    "Input/Output\n",
    "\n",
    "[execution time limit] 4 seconds (py3)\n",
    "\n",
    "[memory limit] 1 GB\n",
    "\n",
    "[input] integer n\n",
    "\n",
    "An integer defining the size of the shell.\n",
    "\n",
    "Guaranteed constraints:\n",
    "1 ≤ n ≤ 30.\n",
    "\n",
    "[output] array.array.integer\n",
    "\n",
    "A shell.\n",
    "\n",
    "[Python 3] Syntax Tips\n",
    "\n",
    "# Prints help message to the console\n",
    "# Returns a string\n",
    "def helloWorld(name):\n",
    "    print(\"This prints to the console when you Run Tests\")\n",
    "    return \"Hello, \" + name\n"
   ]
  },
  {
   "cell_type": "code",
   "execution_count": 1,
   "metadata": {},
   "outputs": [],
   "source": [
    "def solution(n):\n",
    "    return [[0]*min(x,2*n-x) for x in range(1,2*n)]\n"
   ]
  }
 ],
 "metadata": {
  "kernelspec": {
   "display_name": "Python 3",
   "language": "python",
   "name": "python3"
  },
  "language_info": {
   "codemirror_mode": {
    "name": "ipython",
    "version": 3
   },
   "file_extension": ".py",
   "mimetype": "text/x-python",
   "name": "python",
   "nbconvert_exporter": "python",
   "pygments_lexer": "ipython3",
   "version": "3.11.2"
  },
  "orig_nbformat": 4
 },
 "nbformat": 4,
 "nbformat_minor": 2
}
