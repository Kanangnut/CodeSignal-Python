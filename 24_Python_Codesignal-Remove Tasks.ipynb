{
 "cells": [
  {
   "cell_type": "markdown",
   "metadata": {},
   "source": [
    "Implement the missing code, denoted by ellipses. You may not modify the pre-existing code.\n",
    "Today is a good day: it's the kth year since you started to work at the company, which means you have to have a party today. In order to get home earlier and prepare for the jamboree, you need to get home early. You decided to remove each kth tasks from your toDo list, since today is your day and you can do whatever you please.\n",
    "\n",
    "Given the list of task ids in your toDo list, remove each kth task from it and return the list of remaining tasks.\n",
    "\n",
    "Example\n",
    "\n",
    "For k = 3 and toDo = [1237, 2847, 27485, 2947, 1, 247, 374827, 22],\n",
    "the output should be\n",
    "solution(k, toDo) = [1237, 2847, 2947, 1, 374827, 22].\n",
    "\n",
    "Input/Output\n",
    "\n",
    "[execution time limit] 4 seconds (py3)\n",
    "\n",
    "[memory limit] 1 GB\n",
    "\n",
    "[input] integer k\n",
    "\n",
    "Guaranteed constraints:\n",
    "1 ≤ k ≤ 30.\n",
    "\n",
    "[input] array.integer toDo\n",
    "\n",
    "Ids of the tasks in your to-do list.\n",
    "\n",
    "Guaranteed constraints:\n",
    "1 ≤ toDo.length ≤ 100,\n",
    "1 ≤ toDo[i] ≤ 4 · 105.\n",
    "\n",
    "[output] array.integer\n",
    "\n",
    "[Python 3] Syntax Tips\n",
    "\n",
    "# Prints help message to the console\n",
    "# Returns a string\n",
    "def helloWorld(name):\n",
    "    print(\"This prints to the console when you Run Tests\")\n",
    "    return \"Hello, \" + name"
   ]
  },
  {
   "cell_type": "code",
   "execution_count": 1,
   "metadata": {},
   "outputs": [],
   "source": [
    "def solution(k, toDo):\n",
    "    del toDo[k-1::k]\n",
    "    return toDo"
   ]
  }
 ],
 "metadata": {
  "kernelspec": {
   "display_name": "Python 3",
   "language": "python",
   "name": "python3"
  },
  "language_info": {
   "codemirror_mode": {
    "name": "ipython",
    "version": 3
   },
   "file_extension": ".py",
   "mimetype": "text/x-python",
   "name": "python",
   "nbconvert_exporter": "python",
   "pygments_lexer": "ipython3",
   "version": "3.11.2"
  },
  "orig_nbformat": 4
 },
 "nbformat": 4,
 "nbformat_minor": 2
}
