{
 "cells": [
  {
   "cell_type": "markdown",
   "metadata": {},
   "source": [
    "Implement the missing code, denoted by ellipses. You may not modify the pre-existing code.\n",
    "You are given a list of students who want to apply to the internship at CodeSignal. For the ith student you know their full name students[i], which can consist of up to 5 words (where a word is a set of consecutive letters). It is guaranteed that the surname is always the last name of student's full name.\n",
    "\n",
    "Your task is to sort the students lexicographically by their surnames. If two students happen to have the same surname, their order in the result should be the same as in the original list.\n",
    "\n",
    "Example\n",
    "\n",
    "For\n",
    "\n",
    "students = [\"John Smith\", \"Jacky Mon Simonoff\", \n",
    "            \"Lucy Smith\", \"Angela Zimonova\"]\n",
    "the output should be\n",
    "\n",
    "solution(students) = [\"Jacky Mon Simonoff\", \"John Smith\", \n",
    "                      \"Lucy Smith\", \"Angela Zimonova\"]\n",
    "Input/Output\n",
    "\n",
    "[execution time limit] 4 seconds (py3)\n",
    "\n",
    "[memory limit] 1 GB\n",
    "\n",
    "[input] array.string students\n",
    "\n",
    "Array of students, where each student is given by their full name consisting of at most 5 words. For each i students[i] consists of English letters and whitespace (' ') characters.\n",
    "\n",
    "Guaranteed constraints:\n",
    "1 ≤ students.length ≤ 30,\n",
    "1 ≤ students[i].length ≤ 50.\n",
    "\n",
    "[output] array.string\n",
    "\n",
    "Array of students sorted as described above.\n",
    "\n",
    "[Python 3] Syntax Tips\n",
    "\n",
    "# Prints help message to the console\n",
    "# Returns a string\n",
    "def helloWorld(name):\n",
    "    print(\"This prints to the console when you Run Tests\")\n",
    "    return \"Hello, \" + name\n"
   ]
  },
  {
   "cell_type": "code",
   "execution_count": 1,
   "metadata": {},
   "outputs": [],
   "source": [
    "def solution(students):\n",
    "    students.sort(key=lambda name: name.split(\" \")[-1] )\n",
    "    return students\n"
   ]
  }
 ],
 "metadata": {
  "kernelspec": {
   "display_name": "Python 3",
   "language": "python",
   "name": "python3"
  },
  "language_info": {
   "codemirror_mode": {
    "name": "ipython",
    "version": 3
   },
   "file_extension": ".py",
   "mimetype": "text/x-python",
   "name": "python",
   "nbconvert_exporter": "python",
   "pygments_lexer": "ipython3",
   "version": "3.11.2"
  },
  "orig_nbformat": 4
 },
 "nbformat": 4,
 "nbformat_minor": 2
}
