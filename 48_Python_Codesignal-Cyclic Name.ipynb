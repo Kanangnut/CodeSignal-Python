{
 "cells": [
  {
   "cell_type": "code",
   "execution_count": null,
   "metadata": {},
   "outputs": [],
   "source": [
    "Implement the missing code, denoted by ellipses. You may not modify the pre-existing code.\n",
    "You've come up with a really cool name for your future startup company, and already have an idea about its logo. This logo will represent a circle, with the prefix of a cyclic string formed by the company name written around it.\n",
    "\n",
    "The length n of the prefix you need to take depends on the size of the logo. You haven't yet decided on it, so you'd like to try out various options. Given the name of your company, return the prefix of the corresponding cyclic string containing n characters.\n",
    "\n",
    "Example\n",
    "\n",
    "For name = \"nicecoder\" and n = 15, the output should be\n",
    "solution(name, n) = \"nicecoderniceco\".\n",
    "\n",
    "Input/Output\n",
    "\n",
    "[execution time limit] 4 seconds (py3)\n",
    "\n",
    "[memory limit] 1 GB\n",
    "\n",
    "[input] string name\n",
    "\n",
    "The name of your future startup.\n",
    "\n",
    "Guaranteed constraints:\n",
    "1 ≤ name.length ≤ 20.\n",
    "\n",
    "[input] integer n\n",
    "\n",
    "The length of the cyclic string prefix.\n",
    "\n",
    "Guaranteed constraints:\n",
    "name.length ≤ n ≤ 50.\n",
    "\n",
    "[output] string\n",
    "\n",
    "Prefix of size n of the cyclic string formed by name.\n",
    "\n",
    "[Python 3] Syntax Tips\n",
    "\n",
    "# Prints help message to the console\n",
    "# Returns a string\n",
    "def helloWorld(name):\n",
    "    print(\"This prints to the console when you Run Tests\")\n",
    "    return \"Hello, \" + name"
   ]
  },
  {
   "cell_type": "code",
   "execution_count": null,
   "metadata": {},
   "outputs": [],
   "source": [
    "from itertools import cycle\n",
    "\n",
    "def solution(name, n):\n",
    "    gen = cycle(name)\n",
    "    res = [next(gen) for _ in range(n)]\n",
    "    return ''.join(res)"
   ]
  }
 ],
 "metadata": {
  "kernelspec": {
   "display_name": "Python 3",
   "language": "python",
   "name": "python3"
  },
  "language_info": {
   "codemirror_mode": {
    "name": "ipython",
    "version": 3
   },
   "file_extension": ".py",
   "mimetype": "text/x-python",
   "name": "python",
   "nbconvert_exporter": "python",
   "pygments_lexer": "ipython3",
   "version": "3.11.2"
  },
  "orig_nbformat": 4
 },
 "nbformat": 4,
 "nbformat_minor": 2
}
