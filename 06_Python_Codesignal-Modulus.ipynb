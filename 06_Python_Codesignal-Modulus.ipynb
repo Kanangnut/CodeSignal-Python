{
 "cells": [
  {
   "cell_type": "markdown",
   "metadata": {},
   "source": [
    "Implement the missing code, denoted by elipses. You may not modify the pre-exosting code.\n",
    "\n",
    "It frustrates you more than you'd like to admit that the modulus operator in Python can be applied to non-integer values. When you write code, you expect the result of the modulus operator to always be an integer, but thanks to Python this isn't always the case.\n",
    "\n",
    "To fix this, you've decided to write your own modulus operator as a function. Your task is to implement a function that, given a number n, returns -1 if this number is not an integer and n %2 otherwise. It is guaranteed that if the number represents an integer, it will be written without a decimal point.\n",
    "\n",
    "Example\n",
    "- For n =15, the output should be\n",
    "solution(n) = 1;\n",
    "- For n = 23.12, the output should be\n",
    "solution(n) = -1\n",
    "\n",
    "Input/Output\n",
    "- [execution time linit] 4 seconds (py)\n",
    "- [memory limit] 1 GB\n",
    "- [input] numeric n\n",
    "\n",
    "A non-negative number that can be an int, a float, or a long\n",
    "Guaranteed constraints:\n",
    "0 <= n <= 1000\n",
    "\n",
    "- [output] integer\n",
    "Return n%2 if n an integer, otherwise return -1\n",
    "\n",
    "[Python 2] Syntax Tips\n",
    "#Prints help message to console\n",
    "#Returns a string\n",
    "def helloWorld(name):\n",
    "print \"This prints to the console when you Run Tests\"\n",
    "return \"Hello\",\" + name"
   ]
  },
  {
   "cell_type": "code",
   "execution_count": null,
   "metadata": {},
   "outputs": [],
   "source": [
    "def solution(n):\n",
    "    if isinstance(n, int):\n",
    "        return n % 2\n",
    "    else:\n",
    "        return -1\n"
   ]
  }
 ],
 "metadata": {
  "language_info": {
   "name": "python"
  },
  "orig_nbformat": 4
 },
 "nbformat": 4,
 "nbformat_minor": 2
}
