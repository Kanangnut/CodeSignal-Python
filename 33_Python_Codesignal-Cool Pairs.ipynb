{
 "cells": [
  {
   "cell_type": "markdown",
   "metadata": {},
   "source": [
    "Implement the missing code, denoted by ellipses. You may not modify the pre-existing code.\n",
    "A pair of numbers is considered to be cool if their product is divisible by their sum. More formally, a pair (i, j) is cool if and only if (i * j) % (i + j) = 0.\n",
    "\n",
    "Given two lists a and b, find cool pairs with the first number in the pair from a, and the second one from b. Return the number of different sums of elements in such pairs.\n",
    "\n",
    "Example\n",
    "\n",
    "For a = [4, 5, 6, 7, 8] and b = [8, 9, 10, 11, 12],\n",
    "the output should be\n",
    "solution(a, b) = 2.\n",
    "\n",
    "There are three cool pairs that can be formed from these arrays: (4, 12), (6, 12) and (8, 8). Their respective sums are 16, 18 and 16, which means that there are just 2 different sums: 16 and 18. Thus, the output should be equal to 2.\n",
    "\n",
    "Input/Output\n",
    "\n",
    "[execution time limit] 4 seconds (py3)\n",
    "\n",
    "[memory limit] 1 GB\n",
    "\n",
    "[input] array.integer a\n",
    "\n",
    "Array of distinct elements.\n",
    "\n",
    "Guaranteed constraints:\n",
    "1 ≤ a.length ≤ 100,\n",
    "1 ≤ a[i] ≤ 100.\n",
    "\n",
    "[input] array.integer b\n",
    "\n",
    "Array of distinct elements.\n",
    "\n",
    "Guaranteed constraints:\n",
    "1 ≤ b.length ≤ 100,\n",
    "1 ≤ b[i] ≤ 100.\n",
    "\n",
    "[output] integer\n",
    "\n",
    "The number of different sums of elements in cool pairs formed by elements from a and b.\n",
    "\n",
    "[Python 3] Syntax Tips\n",
    "\n",
    "# Prints help message to the console\n",
    "# Returns a string\n",
    "def helloWorld(name):\n",
    "    print(\"This prints to the console when you Run Tests\")\n",
    "    return \"Hello, \" + name"
   ]
  },
  {
   "cell_type": "code",
   "execution_count": 1,
   "metadata": {},
   "outputs": [],
   "source": [
    "def solution(a, b):\n",
    "    uniqueSums = {x+y for x in a for y in b if (x*y) % (x+y) == 0}\n",
    "    return len(uniqueSums)"
   ]
  }
 ],
 "metadata": {
  "kernelspec": {
   "display_name": "Python 3",
   "language": "python",
   "name": "python3"
  },
  "language_info": {
   "codemirror_mode": {
    "name": "ipython",
    "version": 3
   },
   "file_extension": ".py",
   "mimetype": "text/x-python",
   "name": "python",
   "nbconvert_exporter": "python",
   "pygments_lexer": "ipython3",
   "version": "3.11.2"
  },
  "orig_nbformat": 4
 },
 "nbformat": 4,
 "nbformat_minor": 2
}
