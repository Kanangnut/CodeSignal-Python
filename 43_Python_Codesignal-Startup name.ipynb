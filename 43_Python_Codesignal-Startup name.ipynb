{
 "cells": [
  {
   "cell_type": "markdown",
   "metadata": {},
   "source": [
    "Startup Name\n",
    "\n",
    "\n",
    "Implement the missing code, denoted by ellipses. You may not modify the pre-existing code.\n",
    "You decided to found your own startup company and now want to choose a proper name for it. There are three large companies that you want to compete against, and since their names are quite popular you want to use their names as a starting point. You want to use only popular characters in the name of your company, but not too mainstream. You consider a character to be popular if it appears in at least two company names, and consider it to be mainstream if it appears in all three.\n",
    "\n",
    "Given the names of the companies, return the list of characters that are popular but not mainstream sorted by their ASCII codes.\n",
    "\n",
    "Example\n",
    "\n",
    "For companies = [\"coolcompany\", \"nicecompany\", \"legendarycompany\"],\n",
    "the output should be\n",
    "solution(companies) = ['e', 'l'].\n",
    "\n",
    "Here's how the answer can be obtained:\n",
    "\n",
    "these letters appear in all three company names and are thus mainstream: 'a', 'c', 'm', 'n', 'o', 'p', 'y';\n",
    "these letters appear only in one of the company names and are thus not popular: 'd', 'g', 'i', 'r';\n",
    "the remaining letters are popular and not mainstream: 'e', 'l'.\n",
    "Input/Output\n",
    "\n",
    "[execution time limit] 4 seconds (py3)\n",
    "\n",
    "[memory limit] 1 GB\n",
    "\n",
    "[input] array.string companies\n",
    "\n",
    "Array of three strings representing the company names. Each name is guaranteed to consist only of lowercase English letters.\n",
    "\n",
    "Guaranteed constraints:\n",
    "companies.length = 3,\n",
    "2 ≤ companies[i].length ≤ 20.\n",
    "\n",
    "[output] array.char\n",
    "\n",
    "Array of characters that are popular but not mainstream.\n",
    "\n",
    "[Python 3] Syntax Tips\n",
    "\n",
    "# Prints help message to the console\n",
    "# Returns a string\n",
    "def helloWorld(name):\n",
    "    print(\"This prints to the console when you Run Tests\")\n",
    "    return \"Hello, \" + name"
   ]
  },
  {
   "cell_type": "code",
   "execution_count": null,
   "metadata": {
    "vscode": {
     "languageId": "plaintext"
    }
   },
   "outputs": [],
   "source": [
    "def solution(companies):\n",
    "    cmp1 = set(companies[0])\n",
    "    cmp2 = set(companies[1])\n",
    "    cmp3 = set(companies[2])\n",
    "    res = ((cmp1 & cmp2) | (cmp1 & cmp3) | (cmp2 & cmp3)) - (cmp1 &cmp2 &cmp3)\n",
    "    return list(sorted(list(res)))\n"
   ]
  }
 ],
 "metadata": {
  "kernelspec": {
   "display_name": "Python 3",
   "language": "python",
   "name": "python3"
  },
  "language_info": {
   "codemirror_mode": {
    "name": "ipython",
    "version": 3
   },
   "file_extension": ".py",
   "mimetype": "text/x-python",
   "name": "python",
   "nbconvert_exporter": "python",
   "pygments_lexer": "ipython3",
   "version": "3.11.2"
  },
  "orig_nbformat": 4
 },
 "nbformat": 4,
 "nbformat_minor": 2
}
