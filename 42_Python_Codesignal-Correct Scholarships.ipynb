{
 "cells": [
  {
   "cell_type": "markdown",
   "metadata": {},
   "source": [
    "Implement the missing code, denoted by ellipses. You may not modify the pre-existing code.\n",
    "For the upcoming academic year the Coolcoders University should decide which students will get the scholarships. Scholarships are considered to be correctly distributed if all best students have it, but not all students in the university do. Obviously, only university students should be able to get a scholarship, i.e. there should be no outsiders in the list of the students that will get a scholarships.\n",
    "\n",
    "You are given lists of unique student ids bestStudents, scholarships and allStudents, representing ids of the best students, students that will get a scholarship and all the students in the university, respectively. Return true if the scholarships are correctly distributed and false otherwise.\n",
    "\n",
    "Example\n",
    "\n",
    "For bestStudents = [3, 5], scholarships = [3, 5, 7], and\n",
    "allStudents = [1, 2, 3, 4, 5, 6, 7], the output should be\n",
    "solution(bestStudents, scholarships, allStudents) = true;\n",
    "\n",
    "For bestStudents = [3, 5], scholarships = [3, 5], and\n",
    "allStudents = [3, 5], the output should be\n",
    "solution(bestStudents, scholarships, allStudents) = false.\n",
    "\n",
    "All students get a scholarship, which is not correct.\n",
    "\n",
    "For bestStudents = [3], scholarships = [1, 3, 5], and\n",
    "allStudents = [1, 2, 3], the output should be\n",
    "solution(bestStudents, scholarships, allStudents) = false.\n",
    "\n",
    "There's no student with id 5, yet somehow he managed to get a scholarship.\n",
    "\n",
    "Input/Output\n",
    "\n",
    "[execution time limit] 4 seconds (py3)\n",
    "\n",
    "[memory limit] 1 GB\n",
    "\n",
    "[input] array.integer bestStudents\n",
    "\n",
    "Array of unique elements representing ids of the best students in the university. It is guaranteed that all bestStudents are present in allStudents.\n",
    "\n",
    "Guaranteed constraints:\n",
    "0 ≤ bestStudents.length ≤ 30,\n",
    "1 ≤ bestStudents[i] ≤ 1000.\n",
    "\n",
    "[input] array.integer scholarships\n",
    "\n",
    "Array of unique elements representing ids of the students that will get a scholarship.\n",
    "\n",
    "Guaranteed constraints:\n",
    "0 ≤ scholarships.length ≤ 30,\n",
    "1 ≤ scholarships[i] ≤ 1000.\n",
    "\n",
    "[input] array.integer allStudents\n",
    "\n",
    "Array of unique elements representing ids of the students that will get a scholarship.\n",
    "\n",
    "Guaranteed constraints:\n",
    "0 ≤ allStudents.length ≤ 30,\n",
    "1 ≤ allStudents[i] ≤ 1000.\n",
    "\n",
    "[output] boolean\n",
    "\n",
    "true if the scholarships are correctly distributed and false otherwise.\n",
    "\n",
    "[Python 3] Syntax Tips\n",
    "\n",
    "# Prints help message to the console\n",
    "# Returns a string\n",
    "def helloWorld(name):\n",
    "    print(\"This prints to the console when you Run Tests\")\n",
    "    return \"Hello, \" + name\n"
   ]
  },
  {
   "cell_type": "code",
   "execution_count": null,
   "metadata": {
    "vscode": {
     "languageId": "plaintext"
    }
   },
   "outputs": [],
   "source": [
    "def solution(bestStudents, scholarships, allStudents):\n",
    "    return len(scholarships) < len(allStudents) and sum([x in allStudents for x in scholarships]) == len(scholarships) and sum([x in scholarships for x in bestStudents]) == min(len(bestStudents), len(scholarships))\n"
   ]
  }
 ],
 "metadata": {
  "kernelspec": {
   "display_name": "Python 3",
   "language": "python",
   "name": "python3"
  },
  "language_info": {
   "codemirror_mode": {
    "name": "ipython",
    "version": 3
   },
   "file_extension": ".py",
   "mimetype": "text/x-python",
   "name": "python",
   "nbconvert_exporter": "python",
   "pygments_lexer": "ipython3",
   "version": "3.11.2"
  },
  "orig_nbformat": 4
 },
 "nbformat": 4,
 "nbformat_minor": 2
}
