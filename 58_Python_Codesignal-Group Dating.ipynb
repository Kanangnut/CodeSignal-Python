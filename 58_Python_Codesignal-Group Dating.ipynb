{
 "cells": [
  {
   "cell_type": "code",
   "execution_count": null,
   "metadata": {},
   "outputs": [],
   "source": [
    "Implement the missing code, denoted by ellipses. You may not modify the pre-existing code.\n",
    "You're organizing a group dating activity for cats, i.e. a meeting where an equal number of male and female cats get together. For each cat you calculate their nature value, an integer that describes the cat's spirit. When a male and a female cat with the same nature value see each other, they become connected and happily walk out together.\n",
    "\n",
    "You've just started another group dating, and placed the cats in front of one another so that the ith male is sitting across the ith female. What cats will remain at their places, assuming that the pairs of cats sitting in front of each other and having the same nature values will walk out?\n",
    "\n",
    "Example\n",
    "\n",
    "For male = [5, 28, 14, 99, 17] and\n",
    "female = [5, 14, 28, 99, 16],\n",
    "the output should be\n",
    "solution(male, female) = [[28, 14, 17], [14, 28, 16]].\n",
    "\n",
    "Pairs of cats at positions 0 and 3 (0-based) have the same nature values, so they will leave the meeting.\n",
    "\n",
    "Input/Output\n",
    "\n",
    "[execution time limit] 4 seconds (py3)\n",
    "\n",
    "[memory limit] 1 GB\n",
    "\n",
    "[input] array.integer male\n",
    "\n",
    "Nature values of male cats.\n",
    "\n",
    "Guaranteed constraints:\n",
    "1 ≤ male.length ≤ 20,\n",
    "0 ≤ male[i] ≤ 100.\n",
    "\n",
    "[input] array.integer female\n",
    "\n",
    "Nature values of female cats.\n",
    "\n",
    "Guaranteed constraints:\n",
    "female.length = male.length,\n",
    "0 ≤ female[i] ≤ 100.\n",
    "\n",
    "[output] array.array.integer\n",
    "\n",
    "A list of two elements, where the first element will contain nature values of the remaining male cats, and the second element will contain nature values of the remaining female cats. In both cases, the values should go in the order the corresponding cats are sitting.\n",
    "\n",
    "Note: if your solution returns a list of tuples, the tuples will be converted to list automatically.\n",
    "\n",
    "[Python 3] Syntax Tips\n",
    "\n",
    "# Prints help message to the console\n",
    "# Returns a string\n",
    "def helloWorld(name):\n",
    "    print(\"This prints to the console when you Run Tests\")\n",
    "    return \"Hello, \" + name\n"
   ]
  },
  {
   "cell_type": "code",
   "execution_count": null,
   "metadata": {},
   "outputs": [],
   "source": [
    "def solution(male, female):\n",
    "    return [[x for x, y in zip(male, female) if x!=y], [y for x, y in zip(male, female) if x!=y]]"
   ]
  }
 ],
 "metadata": {
  "kernelspec": {
   "display_name": "Python 3",
   "language": "python",
   "name": "python3"
  },
  "language_info": {
   "codemirror_mode": {
    "name": "ipython",
    "version": 3
   },
   "file_extension": ".py",
   "mimetype": "text/x-python",
   "name": "python",
   "nbconvert_exporter": "python",
   "pygments_lexer": "ipython3",
   "version": "3.11.2"
  },
  "orig_nbformat": 4
 },
 "nbformat": 4,
 "nbformat_minor": 2
}
