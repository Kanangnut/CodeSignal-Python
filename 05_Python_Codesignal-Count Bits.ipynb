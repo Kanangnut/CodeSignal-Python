{
 "cells": [
  {
   "cell_type": "markdown",
   "metadata": {},
   "source": [
    "Implement the missiog code, denoted by ellpises. You may not modify the pre-existing code.\n",
    "Implement a fiction tjat, given an integer n, uses a specific method on it and returns the number of bits its binary representation .\n",
    "\n",
    "Note: in this task and most of the follwing tasks you will be given a vode snipper with some part of it replaced by the ellipsis(...). Only this part is allowed to be changed.\n",
    "\n",
    "Example\n",
    "\n",
    "For n = 50, the output should be\n",
    "solution(n) = 6\n",
    "\n",
    "50 10 = 110010 2, a number that consists of 6 digits. Thus, the output should be 6.\n",
    "\n",
    "Input/Output\n",
    "- [execution time limit] 4 seconds (py)\n",
    "- [memory limit] 1 GB\n",
    "- [input] integer n\n",
    "A position integer.\n",
    "Guaranteeed constraints:\n",
    "1 </= n </= 10^9\n",
    "- [output] integer\n",
    "The number of bits in binary representation of n.\n",
    "\n",
    "[Python 2] Syntax Tips\n",
    "# Prints help message to the console\n",
    "# Returns a string\n",
    "def helloWorld(name):\n",
    "    print \"This prints to the console when you Run Tests\"\n",
    "    return \"Hello, \" + name"
   ]
  },
  {
   "cell_type": "markdown",
   "metadata": {},
   "source": [
    "def solution(n):\n",
    "    return n.bit_length()\n"
   ]
  }
 ],
 "metadata": {
  "kernelspec": {
   "display_name": "Python 3",
   "language": "python",
   "name": "python3"
  },
  "language_info": {
   "codemirror_mode": {
    "name": "ipython",
    "version": 3
   },
   "file_extension": ".py",
   "mimetype": "text/x-python",
   "name": "python",
   "nbconvert_exporter": "python",
   "pygments_lexer": "ipython3",
   "version": "3.11.2"
  },
  "orig_nbformat": 4
 },
 "nbformat": 4,
 "nbformat_minor": 2
}
