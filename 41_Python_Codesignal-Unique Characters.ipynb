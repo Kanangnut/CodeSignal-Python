{
 "cells": [
  {
   "cell_type": "markdown",
   "metadata": {},
   "source": [
    "Implement the missing code, denoted by ellipses. You may not modify the pre-existing code.\n",
    "You need to compress a large document that consists of a small number of different characters. To choose the best encoding algorithm, you would like to look closely at the characters that comprise this document.\n",
    "\n",
    "Given a document, return an array of all unique characters that appear in it sorted by their ASCII codes.\n",
    "\n",
    "Example\n",
    "\n",
    "For document = \"Todd told Tom to trot to the timber\",\n",
    "the output should be\n",
    "solution(document) = [' ', 'T', 'b', 'd', 'e', 'h', 'i', 'l', 'm', 'o', 'r', 't'].\n",
    "\n",
    "Input/Output\n",
    "\n",
    "[execution time limit] 4 seconds (py3)\n",
    "\n",
    "[memory limit] 1 GB\n",
    "\n",
    "[input] string document\n",
    "\n",
    "A string consisting of English letters, whitespace characters and punctuation marks.\n",
    "\n",
    "Guaranteed constraints:\n",
    "1 ≤ document.length ≤ 80.\n",
    "\n",
    "[output] array.char\n",
    "\n",
    "A sorted array of all the unique characters that appear in the document.\n",
    "\n",
    "[Python 3] Syntax Tips\n",
    "\n",
    "# Prints help message to the console\n",
    "# Returns a string\n",
    "def helloWorld(name):\n",
    "    print(\"This prints to the console when you Run Tests\")\n",
    "    return \"Hello, \" + name"
   ]
  },
  {
   "cell_type": "code",
   "execution_count": null,
   "metadata": {
    "vscode": {
     "languageId": "plaintext"
    }
   },
   "outputs": [],
   "source": [
    "def solution(document):\n",
    "    return sorted([x for i, x in enumerate(document) if x not in document[0:i]])\n"
   ]
  }
 ],
 "metadata": {
  "kernelspec": {
   "display_name": "Python 3",
   "language": "python",
   "name": "python3"
  },
  "language_info": {
   "codemirror_mode": {
    "name": "ipython",
    "version": 3
   },
   "file_extension": ".py",
   "mimetype": "text/x-python",
   "name": "python",
   "nbconvert_exporter": "python",
   "pygments_lexer": "ipython3",
   "version": "3.11.2"
  },
  "orig_nbformat": 4
 },
 "nbformat": 4,
 "nbformat_minor": 2
}
