{
 "cells": [
  {
   "cell_type": "markdown",
   "metadata": {},
   "source": [
    "Implement the missing code, denoted by ellipses. You may not modify the pre-existing code.\n",
    "One of your friends has an awful writing style: he almost never starts a message with a capital letter, but adds uppercase letters in random places throughout the message. It makes chatting with him very difficult for you, so you decided to write a plugin that will change each message received from your friend into a more readable form.\n",
    "\n",
    "Implement a function that will change the very first symbol of the given message to uppercase, and make all the other letters lowercase.\n",
    "\n",
    "Example\n",
    "\n",
    "For message = \"you'll NEVER believe what that 'FrIeNd' of mine did!!1\",\n",
    "the output should be\n",
    "solution(message) = \"You'll never believe what that 'friend' of mine did!!1\".\n",
    "\n",
    "Input/Output\n",
    "\n",
    "[execution time limit] 4 seconds (py)\n",
    "\n",
    "[memory limit] 1 GB\n",
    "\n",
    "[input] string message\n",
    "\n",
    "A string consisting of English letters, whitespace characters, digits and punctuation marks.\n",
    "\n",
    "Guaranteed constraints:\n",
    "1 ≤ message.length ≤ 65.\n",
    "\n",
    "[output] string\n",
    "\n",
    "Fixed message with its first letter capitalized, and all other letters converted to lowercase.\n",
    "\n",
    "[Python 2] Syntax Tips\n",
    "\n",
    "# Prints help message to the console\n",
    "# Returns a string\n",
    "def helloWorld(name):\n",
    "    print \"This prints to the console when you Run Tests\"\n",
    "    return \"Hello, \" + name"
   ]
  },
  {
   "cell_type": "markdown",
   "metadata": {},
   "source": []
  },
  {
   "cell_type": "code",
   "execution_count": 2,
   "metadata": {},
   "outputs": [
    {
     "name": "stdout",
     "output_type": "stream",
     "text": [
      "hello, world!\n"
     ]
    }
   ],
   "source": [
    "message = \"hello, world!\"\n",
    "def solution(message):\n",
    "    return message.capitalize()\n",
    "print(message)"
   ]
  }
 ],
 "metadata": {
  "kernelspec": {
   "display_name": "Python 3",
   "language": "python",
   "name": "python3"
  },
  "language_info": {
   "codemirror_mode": {
    "name": "ipython",
    "version": 3
   },
   "file_extension": ".py",
   "mimetype": "text/x-python",
   "name": "python",
   "nbconvert_exporter": "python",
   "pygments_lexer": "ipython3",
   "version": "3.11.2"
  },
  "orig_nbformat": 4
 },
 "nbformat": 4,
 "nbformat_minor": 2
}
