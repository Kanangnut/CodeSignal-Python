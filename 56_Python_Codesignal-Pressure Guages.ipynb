{
 "cells": [
  {
   "cell_type": "code",
   "execution_count": null,
   "metadata": {},
   "outputs": [],
   "source": [
    "Implement the missing code, denoted by ellipses. You may not modify the pre-existing code.\n",
    "Harry dropped out of school to pursue his dreams and work in Pipes Corporations. He is now in charge of a lot of pipes, and his task is to check the gauges twice a day. By analyzing the morning and evening pressures of each pipe, Harry should write a report about the minimum and the maximum pressure during the day.\n",
    "\n",
    "Given the pressures Harry wrote down for each pipe, return two lists: the first one containing the minimum, and the second one containing the maximum pressure of each pipe during the day.\n",
    "\n",
    "Example\n",
    "\n",
    "For morning = [3, 5, 2, 6] and evening = [1, 6, 6, 6],\n",
    "the output should be\n",
    "solution(morning, evening) = [[1, 5, 2, 6], [3, 6, 6, 6]].\n",
    "\n",
    "Input/Output\n",
    "\n",
    "[execution time limit] 4 seconds (py3)\n",
    "\n",
    "[memory limit] 1 GB\n",
    "\n",
    "[input] array.integer morning\n",
    "\n",
    "A list of pressures, where the ith element is the value the pressure gauge showed for the ith pipe in the morning.\n",
    "\n",
    "Guaranteed constraints:\n",
    "1 ≤ morning.length ≤ 10,\n",
    "0 ≤ morning[i] ≤ 1000.\n",
    "\n",
    "[input] array.integer evening\n",
    "\n",
    "A list of evening pressures in the same format as morning.\n",
    "\n",
    "Guaranteed constraints:\n",
    "evening.length = morning.length,\n",
    "0 ≤ evening[i] ≤ 1000.\n",
    "\n",
    "[output] array.array.integer\n",
    "\n",
    "A list containing two lists, where the ith elements of the first and the second lists are the minimum and the maximum pressures the ith pipe had, respectively.\n",
    "\n",
    "[Python 3] Syntax Tips\n",
    "\n",
    "# Prints help message to the console\n",
    "# Returns a string\n",
    "def helloWorld(name):\n",
    "    print(\"This prints to the console when you Run Tests\")\n",
    "    return \"Hello, \" + name"
   ]
  },
  {
   "cell_type": "code",
   "execution_count": null,
   "metadata": {},
   "outputs": [],
   "source": [
    "def solution(morning, evening):\n",
    "    return [\n",
    "        [min(morning[x], evening[x]) for x in range(len(morning))],\n",
    "        [max(morning[x], evening[x]) for x in range(len(morning))]\n",
    "    ]\n"
   ]
  }
 ],
 "metadata": {
  "kernelspec": {
   "display_name": "Python 3",
   "language": "python",
   "name": "python3"
  },
  "language_info": {
   "codemirror_mode": {
    "name": "ipython",
    "version": 3
   },
   "file_extension": ".py",
   "mimetype": "text/x-python",
   "name": "python",
   "nbconvert_exporter": "python",
   "pygments_lexer": "ipython3",
   "version": "3.11.2"
  },
  "orig_nbformat": 4
 },
 "nbformat": 4,
 "nbformat_minor": 2
}
