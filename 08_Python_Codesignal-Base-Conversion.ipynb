{
 "cells": [
  {
   "cell_type": "markdown",
   "metadata": {},
   "source": [
    "Implement the missing code, denoted by ellipses. You may not modify the pre-existing code.\n",
    "Your university professor decided to have a little fun and asked the class to implement a function that, given a number n and a base x, converts the number from base x to base 16. To make things more interesting, he announced that the first student to write the solution will have to answer fewer question than the rest of the class during the final exam.\n",
    "\n",
    "Laughing devilishly, you asked if it was okay to use a language of your choice, and the unsuspecting professor answered \"yes\". It's settled then: Python is your language of choice!\n",
    "\n",
    "Now you're bound to win. Implement a function that, given an integer number n and a base x, converts n from base x to base 16.\n",
    "\n",
    "Example\n",
    "\n",
    "For n = \"1302\" and x = 5, the output should be\n",
    "solution(n, x) = \"ca\".\n",
    "\n",
    "Here's why:\n",
    "13025 = 20210 = ca16.\n",
    "\n",
    "Input/Output\n",
    "\n",
    "[execution time limit] 4 seconds (py)\n",
    "\n",
    "[memory limit] 1 GB\n",
    "\n",
    "[input] string n\n",
    "\n",
    "A valid non-negative integer in base x. The string is guaranteed to consist of digits and lowercase English letters.\n",
    "\n",
    "Guaranteed constraints:\n",
    "1 < n.length ≤ 10.\n",
    "\n",
    "[input] integer x\n",
    "\n",
    "The base of n.\n",
    "\n",
    "Guaranteed constraints:\n",
    "2 ≤ x ≤ 36.\n",
    "\n",
    "[output] string\n",
    "\n",
    "The value of n in base 16. The string should contain only digits and lowercase English letters 'a' - 'f'.\n",
    "\n",
    "[Python 2] Syntax Tips\n",
    "\n",
    "# Prints help message to the console\n",
    "# Returns a string\n",
    "def helloWorld(name):\n",
    "    print \"This prints to the console when you Run Tests\"\n",
    "    return \"Hello, \" + name"
   ]
  },
  {
   "cell_type": "code",
   "execution_count": null,
   "metadata": {},
   "outputs": [],
   "source": [
    "def solution(n, x):\n",
    "    return hex(int(n,x))[2:]"
   ]
  }
 ],
 "metadata": {
  "language_info": {
   "name": "python"
  },
  "orig_nbformat": 4
 },
 "nbformat": 4,
 "nbformat_minor": 2
}
