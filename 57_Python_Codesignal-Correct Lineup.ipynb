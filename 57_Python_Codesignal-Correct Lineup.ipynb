{
 "cells": [
  {
   "cell_type": "markdown",
   "metadata": {},
   "source": [
    "Implement the missing code, denoted by ellipses. You may not modify the pre-existing code.\n",
    "For the opening ceremony of an upcoming sports event, an even number of athletes from two teams A and B were picked to put on a performance. They start by forming a correct lineup in which an athlete from one team stands next to an athlete from the other team (i.e., in an alternating pattern). As a part of the performance, adjacent pairs of athletes (i.e. the first one together with the second one, the third one together with the fourth one, etc.) have to swap positions with each other.\n",
    "\n",
    "Given a list of athletes, return the list of athletes after the changes, i.e. after each adjacent pair of athletes is swapped.\n",
    "\n",
    "Example\n",
    "\n",
    "For athletes = [1, 2, 3, 4, 5, 6], the output should be\n",
    "solution(athletes) = [2, 1, 4, 3, 6, 5].\n",
    "\n",
    "Input/Output\n",
    "\n",
    "[execution time limit] 4 seconds (py3)\n",
    "\n",
    "[memory limit] 1 GB\n",
    "\n",
    "[input] array.integer athletes\n",
    "\n",
    "A list of even length representing the athletes, where each athlete is given by the number written on their back.\n",
    "\n",
    "Guaranteed constraints:\n",
    "2 ≤ athletes.length ≤ 20,\n",
    "1 ≤ athletes[i] ≤ 100.\n",
    "\n",
    "[output] array.integer\n",
    "\n",
    "Array of athletes with each pair of adjacent elements swapped.\n",
    "\n",
    "[Python 3] Syntax Tips\n",
    "\n",
    "# Prints help message to the console\n",
    "# Returns a string\n",
    "def helloWorld(name):\n",
    "    print(\"This prints to the console when you Run Tests\")\n",
    "    return \"Hello, \" + name"
   ]
  },
  {
   "cell_type": "code",
   "execution_count": null,
   "metadata": {
    "vscode": {
     "languageId": "plaintext"
    }
   },
   "outputs": [],
   "source": [
    "def solution(athletes):\n",
    "    return [athletes[i^1] for i in range(len(athletes))]\n",
    "\n",
    "    2^1\n",
    "    10 -> 2\n",
    "    01 -> 1\n",
    "    Result\n",
    "    11 -> 3\n",
    "    \n"
   ]
  },
  {
   "cell_type": "markdown",
   "metadata": {},
   "source": [
    "#Issue fix for use athletes"
   ]
  }
 ],
 "metadata": {
  "kernelspec": {
   "display_name": "Python 3",
   "language": "python",
   "name": "python3"
  },
  "language_info": {
   "codemirror_mode": {
    "name": "ipython",
    "version": 3
   },
   "file_extension": ".py",
   "mimetype": "text/x-python",
   "name": "python",
   "nbconvert_exporter": "python",
   "pygments_lexer": "ipython3",
   "version": "3.11.2"
  },
  "orig_nbformat": 4
 },
 "nbformat": 4,
 "nbformat_minor": 2
}
