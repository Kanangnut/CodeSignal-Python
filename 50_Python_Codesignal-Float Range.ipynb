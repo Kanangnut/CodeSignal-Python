{
 "cells": [
  {
   "cell_type": "code",
   "execution_count": null,
   "metadata": {},
   "outputs": [],
   "source": [
    "Implement the missing code, denoted by ellipses. You may not modify the pre-existing code.\n",
    "As you may know, the range function in Python allows coders to iterate over elements from start to stop with the given step. Unfortunately it works only for integer values, and additional libraries should be used if a programmer wants to use float values.\n",
    "\n",
    "CodeSignal doesn't include third-party libraries, so you have to make do with the standard ones. Given float numbers start, stop and step, your task is to return a list of values from start to stop (including start and not including stop), evenly spaced by the step.\n",
    "\n",
    "Values start, stop and step have at most 5 digits after the decimal point each.\n",
    "\n",
    "Example\n",
    "\n",
    "For start = -0.9, stop = 0.45, and step = 0.2,\n",
    "the output should be\n",
    "solution(start, stop, step) = [-0.9, -0.7, -0.5, -0.3, -0.1, 0.1, 0.3].\n",
    "\n",
    "Input/Output\n",
    "\n",
    "[execution time limit] 4 seconds (py3)\n",
    "\n",
    "[memory limit] 1 GB\n",
    "\n",
    "[input] float start\n",
    "\n",
    "Guaranteed constraints:\n",
    "-1000 ≤ start ≤ stop ≤ 1000.\n",
    "\n",
    "[input] float stop\n",
    "\n",
    "Guaranteed constraints:\n",
    "-1000 ≤ start ≤ stop ≤ 1000.\n",
    "\n",
    "[input] float step\n",
    "\n",
    "Guaranteed constraints:\n",
    "0.05 ≤ step ≤ 1000.\n",
    "\n",
    "[output] array.float\n",
    "\n",
    "A list of values in range [start, stop), spaced by the step.\n",
    "\n",
    "[Python 3] Syntax Tips\n",
    "\n",
    "# Prints help message to the console\n",
    "# Returns a string\n",
    "def helloWorld(name):\n",
    "    print(\"This prints to the console when you Run Tests\")\n",
    "    return \"Hello, \" + name"
   ]
  },
  {
   "cell_type": "code",
   "execution_count": null,
   "metadata": {},
   "outputs": [],
   "source": [
    "from itertools import takewhile, count\n",
    "\n",
    "def solution(start, stop, step):\n",
    "    gen = takewhile(lambda x: x < stop, count(start, step))\n",
    "    return list(gen)\n",
    " "
   ]
  },
  {
   "cell_type": "code",
   "execution_count": null,
   "metadata": {},
   "outputs": [],
   "source": []
  }
 ],
 "metadata": {
  "kernelspec": {
   "display_name": "Python 3",
   "language": "python",
   "name": "python3"
  },
  "language_info": {
   "codemirror_mode": {
    "name": "ipython",
    "version": 3
   },
   "file_extension": ".py",
   "mimetype": "text/x-python",
   "name": "python",
   "nbconvert_exporter": "python",
   "pygments_lexer": "ipython3",
   "version": "3.11.2"
  },
  "orig_nbformat": 4
 },
 "nbformat": 4,
 "nbformat_minor": 2
}
