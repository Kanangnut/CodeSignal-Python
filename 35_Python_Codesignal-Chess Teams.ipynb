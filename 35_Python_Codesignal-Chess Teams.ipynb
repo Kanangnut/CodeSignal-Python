{
 "cells": [
  {
   "cell_type": "markdown",
   "metadata": {},
   "source": [
    "Implement the missing code, denoted by ellipses. You may not modify the pre-existing code.\n",
    "A grand Team Chess Tournament will be held at your University. Two teams, smarties and cleveries, will clash to determine whose chess skills are better. The teams have the same number of members, and the ith member of smarties will play against the ith member of cleveries in the ith game for each valid i\n",
    "\n",
    "Given the names of the players of both smarties and cleveries, return the games in the order they will be played.\n",
    "\n",
    "Example\n",
    "\n",
    "For smarties = [\"Jane\", \"Bob\", \"Peter\"] and\n",
    "cleveries = [\"Oscar\", \"Lidia\", \"Ann\"], the output should be\n",
    "\n",
    "solution(smarties, cleveries) = [[\"Jane\",  \"Oscar\"],\n",
    "                                 [\"Bob\",   \"Lidia\"],\n",
    "                                 [\"Peter\", \"Ann\"]]\n",
    "Input/Output\n",
    "\n",
    "[execution time limit] 4 seconds (py3)\n",
    "\n",
    "[memory limit] 1 GB\n",
    "\n",
    "[input] array.string smarties\n",
    "\n",
    "Array of strings, where each string is the name of the member of smarties.\n",
    "\n",
    "Guaranteed constraints:\n",
    "0 ≤ smarties.length ≤ 10,\n",
    "2 ≤ smarties[i].length ≤ 10.\n",
    "\n",
    "[input] array.string cleveries\n",
    "\n",
    "Members of cleveries in the same format as smarties.\n",
    "\n",
    "Guaranteed constraints:\n",
    "cleveries.length = smarties.length,\n",
    "2 ≤ cleveries[i].length ≤ 10.\n",
    "\n",
    "[output] array.array.string\n",
    "\n",
    "The games in the following format: [game0, game1, ..., gamesmarties.length - 1] where gamei = [smartyi, cleveryi].\n",
    "\n",
    "[Python 3] Syntax Tips\n",
    "\n",
    "# Prints help message to the console\n",
    "# Returns a string\n",
    "def helloWorld(name):\n",
    "    print(\"This prints to the console when you Run Tests\")\n",
    "    return \"Hello, \" + name"
   ]
  },
  {
   "cell_type": "code",
   "execution_count": 1,
   "metadata": {},
   "outputs": [],
   "source": [
    "def solution(smarties, cleveries):\n",
    "    return [[smarties[i],cleveries[i]] for i in range(len(smarties))]\n"
   ]
  }
 ],
 "metadata": {
  "kernelspec": {
   "display_name": "Python 3",
   "language": "python",
   "name": "python3"
  },
  "language_info": {
   "codemirror_mode": {
    "name": "ipython",
    "version": 3
   },
   "file_extension": ".py",
   "mimetype": "text/x-python",
   "name": "python",
   "nbconvert_exporter": "python",
   "pygments_lexer": "ipython3",
   "version": "3.11.2"
  },
  "orig_nbformat": 4
 },
 "nbformat": 4,
 "nbformat_minor": 2
}
