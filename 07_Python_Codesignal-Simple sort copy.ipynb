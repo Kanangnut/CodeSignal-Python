{
 "cells": [
  {
   "cell_type": "markdown",
   "metadata": {},
   "source": [
    "Implement the missing code, denoted by ellipses. You may not modify the pre-existing code.\n",
    "\n",
    "To understand how efficient the built-in Python sorting function is, you decided to implement your own simple sorting algorithm and compare its speed to the speed of the Python sorting. Write a function that, given an array of integers arr, sorts its elements in ascending order.\n",
    "\n",
    "Hint: with Python it's possible to swap several elements in a single line. To solve the task, use this knowledge to fill in both of the blanks (...).\n",
    "\n",
    "Example\n",
    "\n",
    "For arr = [2, 4, 1, 5], the output should be\n",
    "    solution(arr) = [1, 2, 4, 5]\n",
    "\n",
    "Input/Output\n",
    "- [execution time limit] 4 seconds (py)\n",
    "- [memory limit] 1 GB\n",
    "- [input] array.integer arr\n",
    "\n",
    "Guaranteed constraints:\n",
    "1 ≤ arr.length ≤ 500,\n",
    "-105 ≤ arr[i] ≤ 105.\n",
    "\n",
    "- [output] array.integer\n",
    "\n",
    "The given array with elements sorted in ascending order.\n",
    "\n",
    "[Python 2] Syntax Tips\n",
    "# Prints help message to the console\n",
    "# Returns a string\n",
    "def helloWorld(name):\n",
    "    print \"This prints to the console when you Run Tests\"\n",
    "    return \"Hello, \" + name\n"
   ]
  },
  {
   "cell_type": "code",
   "execution_count": null,
   "metadata": {},
   "outputs": [],
   "source": [
    "def solution(arr):\n",
    "\n",
    "    n = len(arr)\n",
    "\n",
    "    for i in range(n):\n",
    "        j = 0\n",
    "        stop = n - i\n",
    "        while j < stop - 1:\n",
    "            if arr[j] > arr[j + 1]:\n",
    "                arr[j], arr[j+1] = arr[j+1], arr[j]\n",
    "            j += 1\n",
    "    return arr\n"
   ]
  }
 ],
 "metadata": {
  "language_info": {
   "name": "python"
  },
  "orig_nbformat": 4
 },
 "nbformat": 4,
 "nbformat_minor": 2
}
