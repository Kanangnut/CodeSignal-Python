{
 "cells": [
  {
   "cell_type": "markdown",
   "metadata": {},
   "source": [
    "Implement the missing code, denoted by ellipses. You may not modify the pre-existing code.\n",
    "Let's call a list beautiful if its first element is equal to its last element, or if a list is empty. Given a list a, your task is to chop off its first and its last element until it becomes beautiful. Implement a function that will make the given a beautiful as described, and return the resulting list as an answer.\n",
    "\n",
    "Hint: one of the features introduced in Python 3 called extended unpacking could help here.\n",
    "\n",
    "Example\n",
    "\n",
    "For a = [3, 4, 2, 4, 38, 4, 5, 3, 2], the output should be\n",
    "solution(a) = [4, 38, 4].\n",
    "\n",
    "Here's how the answer is obtained:\n",
    "[3, 4, 2, 4, 38, 4, 5, 3, 2] => [4, 2, 4, 38, 4, 5, 3] => [2, 4, 38, 4, 5] => [4, 38, 4].\n",
    "\n",
    "For a = [1, 4, -5], the output should be\n",
    "solution(a) = [4].\n",
    "\n",
    "Input/Output\n",
    "\n",
    "[execution time limit] 4 seconds (py3)\n",
    "\n",
    "[memory limit] 1 GB\n",
    "\n",
    "[input] array.integer a\n",
    "\n",
    "A list of integers.\n",
    "\n",
    "Guaranteed constraints:\n",
    "0 ≤ a.length ≤ 50,\n",
    "1 ≤ a[i] ≤ 100.\n",
    "\n",
    "[output] array.integer\n",
    "\n",
    "A beautiful list obtained as described above.\n",
    "\n",
    "[Python 3] Syntax Tips\n",
    "\n",
    "# Prints help message to the console\n",
    "# Returns a string\n",
    "def helloWorld(name):\n",
    "    print(\"This prints to the console when you Run Tests\")\n",
    "    return \"Hello, \" + name"
   ]
  },
  {
   "cell_type": "markdown",
   "metadata": {},
   "source": []
  },
  {
   "cell_type": "code",
   "execution_count": null,
   "metadata": {},
   "outputs": [],
   "source": [
    "def solution(a):\n",
    "    res = a[:]\n",
    "    while res and res[0] != res[-1]:\n",
    "        a, *res, b = res\n",
    "    return res"
   ]
  }
 ],
 "metadata": {
  "language_info": {
   "name": "python"
  },
  "orig_nbformat": 4
 },
 "nbformat": 4,
 "nbformat_minor": 2
}
