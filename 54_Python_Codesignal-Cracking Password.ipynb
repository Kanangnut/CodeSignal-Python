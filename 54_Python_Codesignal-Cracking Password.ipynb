{
 "cells": [
  {
   "cell_type": "code",
   "execution_count": null,
   "metadata": {},
   "outputs": [],
   "source": [
    "Implement the missing code, denoted by ellipses. You may not modify the pre-existing code.\n",
    "You've been trying to crack the password from your friend's laptop (just to prank him, malicious intent!), but with no luck. However, looks like you're finally up to something: you checked the keyboard with the \"little detective\" game set and determined that the password consists of a limited set of digits.\n",
    "\n",
    "You've seen your friend typing the password quite a few times, and are now sure that it consists of k digits. You also know that he is very superstitious and believes in the power of number d, so the password is apt to be divisible by it.\n",
    "\n",
    "Given the digits that comprise the password, its length k and the number d by which it is divisible, return a sorted list of strings that should be tried as passwords.\n",
    "\n",
    "Example\n",
    "\n",
    "For digits = [1, 5, 2], k = 2, and d = 3,\n",
    "the output should be\n",
    "solution(digits, k, d) = [\"12\", \"15\", \"21\", \"51\"].\n",
    "\n",
    "Here are all the numbers of length 2: 11, 15, 12, 51, 55, 52, 21, 25 and 22. Only four of them are divisible by 3, and they comprise the answer.\n",
    "\n",
    "Input/Output\n",
    "\n",
    "[execution time limit] 4 seconds (py3)\n",
    "\n",
    "[memory limit] 1 GB\n",
    "\n",
    "[input] array.integer digits\n",
    "\n",
    "Array of distinct digits.\n",
    "\n",
    "Guaranteed constraints:\n",
    "1 ≤ digits.length ≤ 10,\n",
    "0 ≤ digits[i] ≤ 9.\n",
    "\n",
    "[input] integer k\n",
    "\n",
    "The number of digits in the password.\n",
    "\n",
    "Guaranteed constraints:\n",
    "1 ≤ k ≤ 9.\n",
    "\n",
    "[input] integer d\n",
    "\n",
    "The lucky number by which the password should be divisible.\n",
    "\n",
    "Guaranteed constraints:\n",
    "1 ≤ d ≤ 300.\n",
    "\n",
    "[output] array.string\n",
    "\n",
    "A sorted list of strings that should be tested as passwords.\n",
    "\n",
    "[Python 3] Syntax Tips\n",
    "\n",
    "# Prints help message to the console\n",
    "# Returns a string\n",
    "def helloWorld(name):\n",
    "    print(\"This prints to the console when you Run Tests\")\n",
    "    return \"Hello, \" + name"
   ]
  },
  {
   "cell_type": "code",
   "execution_count": null,
   "metadata": {},
   "outputs": [],
   "source": [
    "from itertools import product\n",
    "\n",
    "def solution(digits, k, d):\n",
    "    def createNumber(digs):\n",
    "        return \"\".join(map(str, digs))\n",
    "\n",
    "    return sorted([createNumber(x) for x in product(digits, repeat=k) if int(createNumber(x)) % d == 0])\n",
    "           "
   ]
  }
 ],
 "metadata": {
  "kernelspec": {
   "display_name": "Python 3",
   "language": "python",
   "name": "python3"
  },
  "language_info": {
   "codemirror_mode": {
    "name": "ipython",
    "version": 3
   },
   "file_extension": ".py",
   "mimetype": "text/x-python",
   "name": "python",
   "nbconvert_exporter": "python",
   "pygments_lexer": "ipython3",
   "version": "3.11.2"
  },
  "orig_nbformat": 4
 },
 "nbformat": 4,
 "nbformat_minor": 2
}
