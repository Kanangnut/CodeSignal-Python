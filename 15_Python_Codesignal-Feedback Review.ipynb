{
 "cells": [
  {
   "cell_type": "markdown",
   "metadata": {},
   "source": [
    "Implement the missing code, denoted by ellipses. You may not modify the pre-existing code.\n",
    "You've launched a revolutionary service not long ago, and were busy improving it for the last couple of months. When you finally decided that the service is perfect, you remembered that you created a feedbacks page long time ago, which you never checked out since then. Now that you have nothing left to do, you would like to have a look at what the community thinks of your service.\n",
    "\n",
    "Unfortunately it looks like the feedbacks page is far from perfect: each feedback is displayed as a one-line string, and if it's too long there's no way to see what it is about. Naturally, this horrible bug should be fixed. Implement a function that, given a feedback and the size of the screen, splits the feedback into lines so that:\n",
    "\n",
    "each token (i.e. sequence of non-whitespace characters) belongs to one of the lines entirely;\n",
    "each line is at most size characters long;\n",
    "no line has trailing or leading spaces;\n",
    "each line should have the maximum possible length, assuming that all lines before it were also the longest possible.\n",
    "Example\n",
    "\n",
    "For feedback = \"This is an example feedback\" and size = 8,\n",
    "the output should be\n",
    "\n",
    "solution(feedback, size) = [\"This is\", \n",
    "                            \"an\", \n",
    "                            \"example\", \n",
    "                            \"feedback\"]\n",
    "Input/Output\n",
    "\n",
    "[execution time limit] 4 seconds (py)\n",
    "\n",
    "[memory limit] 1 GB\n",
    "\n",
    "[input] string feedback\n",
    "\n",
    "A string containing a feedback. Each feedback is guaranteed to contain only letters, punctuation marks and whitespace characters (' ').\n",
    "\n",
    "Guaranteed constraints:\n",
    "0 ≤ feedback.length ≤ 100.\n",
    "\n",
    "[input] integer size\n",
    "\n",
    "The size of the screen. It is guaranteed that it is not smaller than the longest token in the feedback.\n",
    "\n",
    "Guaranteed constraints:\n",
    "1 ≤ size ≤ 100.\n",
    "\n",
    "[output] array.string\n",
    "\n",
    "Lines from the feedback, split as described above.\n",
    "\n",
    "[Python 2] Syntax Tips\n",
    "\n",
    "# Prints help message to the console\n",
    "# Returns a string\n",
    "def helloWorld(name):\n",
    "    print \"This prints to the console when you Run Tests\"\n",
    "    return \"Hello, \" + name"
   ]
  },
  {
   "cell_type": "code",
   "execution_count": 1,
   "metadata": {},
   "outputs": [],
   "source": [
    "import textwrap\n",
    "\n",
    "def solution(feedback, size):\n",
    "    return textwrap.wrap(feedback, size)\n"
   ]
  }
 ],
 "metadata": {
  "kernelspec": {
   "display_name": "Python 3",
   "language": "python",
   "name": "python3"
  },
  "language_info": {
   "codemirror_mode": {
    "name": "ipython",
    "version": 3
   },
   "file_extension": ".py",
   "mimetype": "text/x-python",
   "name": "python",
   "nbconvert_exporter": "python",
   "pygments_lexer": "ipython3",
   "version": "3.11.2"
  },
  "orig_nbformat": 4
 },
 "nbformat": 4,
 "nbformat_minor": 2
}
