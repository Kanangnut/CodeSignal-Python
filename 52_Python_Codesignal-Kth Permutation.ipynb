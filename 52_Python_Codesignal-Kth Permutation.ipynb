{
 "cells": [
  {
   "cell_type": "code",
   "execution_count": null,
   "metadata": {},
   "outputs": [],
   "source": [
    "Implement the missing code, denoted by ellipses. You may not modify the pre-existing code.\n",
    "You found your old bike in the attic, and would love to refresh your childhood memories and give it a ride. Unfortunately there is a chain lock on the bike, and the code is a permutation of a set of distinct numbers. Of course, you don't remember it after all these years.\n",
    "\n",
    "You do remember, however, that the last time you picked up your bike you also couldn't remember the code, so had to run over all possible numbers permutations. Being a programmer, you tried them in the lexicographical order. It took you a couple of days, and in the first day you managed to check k - 1 permutations.\n",
    "\n",
    "Now that you need to open the lock again, you can start checking the permutations from the kth one. Given the list of numbers, return the kth (1-based) permutation that you should begin with.\n",
    "\n",
    "Example\n",
    "\n",
    "For numbers = [1, 2, 3, 4, 5] and k = 4, the output should be\n",
    "solution(numbers, k) = [1, 2, 4, 5, 3].\n",
    "\n",
    "Here are the first 4 permutations:\n",
    "\n",
    "[1, 2, 3, 4, 5]\n",
    "[1, 2, 3, 5, 4]\n",
    "[1, 2, 4, 3, 5]\n",
    "[1, 2, 4, 5, 3]\n",
    "Input/Output\n",
    "\n",
    "[execution time limit] 4 seconds (py3)\n",
    "\n",
    "[memory limit] 1 GB\n",
    "\n",
    "[input] array.integer numbers\n",
    "\n",
    "A sorted list of distinct integers.\n",
    "\n",
    "Guaranteed constraints:\n",
    "2 ≤ numbers.length ≤ 10,\n",
    "1 ≤ numbers[i] ≤ 1000.\n",
    "\n",
    "[input] integer k\n",
    "\n",
    "The 1-based index of the first permutation that you should try.\n",
    "\n",
    "Guaranteed constraints:\n",
    "1 ≤ k ≤ numbers.length!.\n",
    "\n",
    "[output] array.integer\n",
    "\n",
    "The kth permutation of numbers.\n",
    "\n",
    "Note: if your solution returns a tuple, it will be converted to list automatically.\n",
    "\n",
    "[Python 3] Syntax Tips\n",
    "\n",
    "# Prints help message to the console\n",
    "# Returns a string\n",
    "def helloWorld(name):\n",
    "    print(\"This prints to the console when you Run Tests\")\n",
    "    return \"Hello, \" + name"
   ]
  },
  {
   "cell_type": "code",
   "execution_count": null,
   "metadata": {},
   "outputs": [],
   "source": [
    "from itertools import permutations\n",
    "\n",
    "def solution(numbers, k):\n",
    "    return list(permutations(numbers, len(numbers)))[k-1]\n"
   ]
  }
 ],
 "metadata": {
  "kernelspec": {
   "display_name": "Python 3",
   "language": "python",
   "name": "python3"
  },
  "language_info": {
   "codemirror_mode": {
    "name": "ipython",
    "version": 3
   },
   "file_extension": ".py",
   "mimetype": "text/x-python",
   "name": "python",
   "nbconvert_exporter": "python",
   "pygments_lexer": "ipython3",
   "version": "3.11.2"
  },
  "orig_nbformat": 4
 },
 "nbformat": 4,
 "nbformat_minor": 2
}
