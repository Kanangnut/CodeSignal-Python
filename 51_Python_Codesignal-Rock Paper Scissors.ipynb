{
 "cells": [
  {
   "cell_type": "code",
   "execution_count": null,
   "metadata": {},
   "outputs": [],
   "source": [
    "Implement the missing code, denoted by ellipses. You may not modify the pre-existing code.\n",
    "The greatest ever Rock-Paper-Scissors Championship will take place in your town! The best players will battle each other to see who's the best player in the world. Each player will compete against each other player twice, once home and once away.\n",
    "\n",
    "Given the list of the players, your task is to come up with the list of all the games between them, and return them sorted lexicographically.\n",
    "\n",
    "Example\n",
    "\n",
    "For players = [\"trainee\", \"warrior\", \"ninja\"], the output should be\n",
    "\n",
    "solution(players) = [[\"ninja\", \"trainee\"], [\"ninja\", \"warrior\"], \n",
    "                     [\"trainee\", \"ninja\"], [\"trainee\", \"warrior\"], \n",
    "                     [\"warrior\", \"ninja\"], [\"warrior\", \"trainee\"]]\n",
    "Input/Output\n",
    "\n",
    "[execution time limit] 4 seconds (py3)\n",
    "\n",
    "[memory limit] 1 GB\n",
    "\n",
    "[input] array.string players\n",
    "\n",
    "A list of distinct players, where each player is given by their nickname that can consist of English letters and whitespace characters.\n",
    "\n",
    "Guaranteed constraints:\n",
    "2 ≤ players.length ≤ 10,\n",
    "1 ≤ players[i].length ≤ 50.\n",
    "\n",
    "[output] array.array.string\n",
    "\n",
    "Array of pairs of players that will play against one another sorted lexicographically.\n",
    "\n",
    "Note: if your solution returns a list of tuples, the tuples will be converted to list automatically.\n",
    "\n",
    "[Python 3] Syntax Tips\n",
    "\n",
    "# Prints help message to the console\n",
    "# Returns a string\n",
    "def helloWorld(name):\n",
    "    print(\"This prints to the console when you Run Tests\")\n",
    "    return \"Hello, \" + name"
   ]
  },
  {
   "cell_type": "code",
   "execution_count": null,
   "metadata": {},
   "outputs": [],
   "source": [
    "from itertools import permutations\n",
    "\n",
    "def solution(players):\n",
    "    return sorted(list(permutations(players, 2)))\n"
   ]
  }
 ],
 "metadata": {
  "kernelspec": {
   "display_name": "Python 3",
   "language": "python",
   "name": "python3"
  },
  "language_info": {
   "codemirror_mode": {
    "name": "ipython",
    "version": 3
   },
   "file_extension": ".py",
   "mimetype": "text/x-python",
   "name": "python",
   "nbconvert_exporter": "python",
   "pygments_lexer": "ipython3",
   "version": "3.11.2"
  },
  "orig_nbformat": 4
 },
 "nbformat": 4,
 "nbformat_minor": 2
}
