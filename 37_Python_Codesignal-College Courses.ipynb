{
 "cells": [
  {
   "cell_type": "markdown",
   "metadata": {},
   "source": [
    "Implement the missing code, denoted by ellipses. You may not modify the pre-existing code.\n",
    "John has just entered a college, and should now pick several courses to take. He knows nothing, except that number x is a bad luck for him, which is why he won't even consider courses whose title consist of x letters.\n",
    "\n",
    "Given a list of courses, remove the courses with titles consisting of x letters and return the result.\n",
    "\n",
    "Example\n",
    "\n",
    "For x = 7 and\n",
    "courses = [\"Art\", \"Finance\", \"Business\", \"Speech\", \"History\", \"Writing\", \"Statistics\"],\n",
    "the output should be\n",
    "solution(x, courses) = [\"Art\", \"Business\", \"Speech\", \"Statistics\"].\n",
    "\n",
    "Input/Output\n",
    "\n",
    "[execution time limit] 4 seconds (py3)\n",
    "\n",
    "[memory limit] 1 GB\n",
    "\n",
    "[input] integer x\n",
    "\n",
    "John's unlucky number.\n",
    "\n",
    "Guaranteed constraints:\n",
    "5 ≤ x ≤ 15.\n",
    "\n",
    "[input] array.string courses\n",
    "\n",
    "The list of courses.\n",
    "\n",
    "Guaranteed constraints:\n",
    "0 ≤ courses.length ≤ 50,\n",
    "3 ≤ courses[i].length ≤ 25.\n",
    "\n",
    "[output] array.string\n",
    "\n",
    "The courses John should consider.\n",
    "\n",
    "[Python 3] Syntax Tips\n",
    "\n",
    "# Prints help message to the console\n",
    "# Returns a string\n",
    "def helloWorld(name):\n",
    "    print(\"This prints to the console when you Run Tests\")\n",
    "    return \"Hello, \" + name"
   ]
  },
  {
   "cell_type": "code",
   "execution_count": 1,
   "metadata": {},
   "outputs": [],
   "source": [
    "def solution(x, courses):\n",
    "    def shouldConsider(course):\n",
    "        return len(course) != x\n",
    "\n",
    "    return list(filter(shouldConsider, courses))\n"
   ]
  }
 ],
 "metadata": {
  "kernelspec": {
   "display_name": "Python 3",
   "language": "python",
   "name": "python3"
  },
  "language_info": {
   "codemirror_mode": {
    "name": "ipython",
    "version": 3
   },
   "file_extension": ".py",
   "mimetype": "text/x-python",
   "name": "python",
   "nbconvert_exporter": "python",
   "pygments_lexer": "ipython3",
   "version": "3.11.2"
  },
  "orig_nbformat": 4
 },
 "nbformat": 4,
 "nbformat_minor": 2
}
