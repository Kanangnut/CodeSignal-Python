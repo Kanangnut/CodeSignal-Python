{
 "cells": [
  {
   "cell_type": "markdown",
   "metadata": {},
   "source": [
    "You came to work in a big company as a Senior Python Developer. Unfortunately your team members seem to be quite old-school: you can see old-style string formatting everywhere in the code, which is not too cool. You tried to force the team members to start using the new style formatting, but it looks like it will take some time to persuade them: old habits die hard, especially in old-school programmers.\n",
    "\n",
    "To show your colleagues that the new style formatting is not that different from the old style, you decided to implement a function that will turn the old-style syntax into a new one. Implement a function that will turn the old-style string formating s into a new one so that the following two strings have the same meaning:\n",
    "\n",
    "s % (*args)\n",
    "s.format(*args)\n",
    "Example\n",
    "\n",
    "For s = \"We expect the %f%% growth this week\", the output should be\n",
    "solution(s) = \"We expect the {}% growth this week\".\n",
    "\n",
    "Input/Output\n",
    "\n",
    "[execution time limit] 4 seconds (py3)\n",
    "\n",
    "[memory limit] 1 GB\n",
    "\n",
    "[input] string s\n",
    "\n",
    "A correct old-style formatting string. It is guaranteed that each % sign in it is always followed either by a correct conversion type or by another '%' sign (see this for reference). It is also guaranteed that it doesn't contain curly brackets ('{' or '}').\n",
    "\n",
    "Guaranteed constraints:\n",
    "1 ≤ s.length ≤ 70.\n",
    "\n",
    "[output] string\n",
    "\n",
    "A new-style formatting string without positional indices.\n",
    "\n",
    "[Python 3] Syntax Tips\n",
    "\n",
    "# Prints help message to the console\n",
    "# Returns a string\n",
    "def helloWorld(name):\n",
    "    print(\"This prints to the console when you Run Tests\")\n",
    "    return \"Hello, \" + name"
   ]
  },
  {
   "cell_type": "code",
   "execution_count": 1,
   "metadata": {},
   "outputs": [],
   "source": [
    "def solution(s):\n",
    "    s = re.sub('%%'. '{%}', s)\n",
    "    s = re.sub('%[dfgexXocbs]', '{}', s)\n",
    "    return re.sub('{%}'. '%', s)"
   ]
  }
 ],
 "metadata": {
  "kernelspec": {
   "display_name": "Python 3",
   "language": "python",
   "name": "python3"
  },
  "language_info": {
   "codemirror_mode": {
    "name": "ipython",
    "version": 3
   },
   "file_extension": ".py",
   "mimetype": "text/x-python",
   "name": "python",
   "nbconvert_exporter": "python",
   "pygments_lexer": "ipython3",
   "version": "3.11.2"
  },
  "orig_nbformat": 4
 },
 "nbformat": 4,
 "nbformat_minor": 2
}
