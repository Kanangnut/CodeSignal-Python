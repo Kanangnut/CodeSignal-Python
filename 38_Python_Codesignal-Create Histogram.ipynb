{
 "cells": [
  {
   "cell_type": "markdown",
   "metadata": {},
   "source": [
    "Implement the missing code, denoted by ellipses. You may not modify the pre-existing code.\n",
    "You noticed that one of your employees has a weird performance rate: although his performance is usually good and stable, from time to time it drops drastically. You suspect it has something to do with the famous Code of Clones series: new episodes started to come out recently, and everyone watches and rewatches them every so often.\n",
    "\n",
    "To confirm your theory, you'd like to create a histogram showing the number of assignments he completed each day in the given period. Given this assignments, return a list representing a horizontal histogram, where each bar is formed by the given character ch.\n",
    "\n",
    "Example\n",
    "\n",
    "For ch = '*' and assignments = [12, 12, 14, 3, 12, 15, 14],\n",
    "the output should be\n",
    "\n",
    "solution(ch, assignments) = [\"************\",\n",
    "                             \"************\",\n",
    "                             \"**************\",\n",
    "                             \"***\",\n",
    "                             \"************\",\n",
    "                             \"***************\",\n",
    "                             \"**************\"]\n",
    "Input/Output\n",
    "\n",
    "[execution time limit] 4 seconds (py3)\n",
    "\n",
    "[memory limit] 1 GB\n",
    "\n",
    "[input] char ch\n",
    "\n",
    "A character that should compose the histogram.\n",
    "\n",
    "[input] array.integer assignments\n",
    "\n",
    "A list of assignments your employee completed each day during some period.\n",
    "\n",
    "Guaranteed constraints:\n",
    "1 ≤ assignments.length ≤ 20,\n",
    "0 ≤ assignments[i] ≤ 50.\n",
    "\n",
    "[output] array.string\n",
    "\n",
    "A histogram built as described above.\n",
    "\n",
    "[Python 3] Syntax Tips\n",
    "\n",
    "# Prints help message to the console\n",
    "# Returns a string\n",
    "def helloWorld(name):\n",
    "    print(\"This prints to the console when you Run Tests\")\n",
    "    return \"Hello, \" + name"
   ]
  },
  {
   "cell_type": "code",
   "execution_count": 1,
   "metadata": {},
   "outputs": [],
   "source": [
    "def solution(ch, assignments):\n",
    "    return [ch*assignment for assignment in assignments]\n"
   ]
  }
 ],
 "metadata": {
  "kernelspec": {
   "display_name": "Python 3",
   "language": "python",
   "name": "python3"
  },
  "language_info": {
   "codemirror_mode": {
    "name": "ipython",
    "version": 3
   },
   "file_extension": ".py",
   "mimetype": "text/x-python",
   "name": "python",
   "nbconvert_exporter": "python",
   "pygments_lexer": "ipython3",
   "version": "3.11.2"
  },
  "orig_nbformat": 4
 },
 "nbformat": 4,
 "nbformat_minor": 2
}
