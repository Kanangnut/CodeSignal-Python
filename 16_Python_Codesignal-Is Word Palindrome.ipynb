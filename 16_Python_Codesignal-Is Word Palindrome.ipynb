{
 "cells": [
  {
   "cell_type": "markdown",
   "metadata": {},
   "source": [
    "Implement the missing code, denoted by ellipses. You may not modify the pre-existing code.\n",
    "Given a word, check whether it is a palindrome or not. A string is considered to be a palindrome if it reads the same in both directions.\n",
    "\n",
    "Example\n",
    "\n",
    "For word = \"aibohphobia\", the output should be\n",
    "solution(word) = true;\n",
    "\n",
    "For word = \"hehehehehe\", the output should be\n",
    "solution(word) = false.\n",
    "\n",
    "Input/Output\n",
    "\n",
    "[execution time limit] 4 seconds (py)\n",
    "\n",
    "[memory limit] 1 GB\n",
    "\n",
    "[input] string word\n",
    "\n",
    "A string containing lowercase English letters.\n",
    "\n",
    "Guaranteed constraints:\n",
    "1 ≤ word.length ≤ 20.\n",
    "\n",
    "[output] boolean\n",
    "\n",
    "true if the given word is a palindrome, false otherwise.\n",
    "\n",
    "[Python 2] Syntax Tips\n",
    "\n",
    "# Prints help message to the console\n",
    "# Returns a string\n",
    "def helloWorld(name):\n",
    "    print \"This prints to the console when you Run Tests\"\n",
    "    return \"Hello, \" + name"
   ]
  },
  {
   "cell_type": "code",
   "execution_count": 1,
   "metadata": {},
   "outputs": [],
   "source": [
    "def solution(word):\n",
    "    return word == word[::-1]"
   ]
  }
 ],
 "metadata": {
  "kernelspec": {
   "display_name": "Python 3",
   "language": "python",
   "name": "python3"
  },
  "language_info": {
   "codemirror_mode": {
    "name": "ipython",
    "version": 3
   },
   "file_extension": ".py",
   "mimetype": "text/x-python",
   "name": "python",
   "nbconvert_exporter": "python",
   "pygments_lexer": "ipython3",
   "version": "3.11.2"
  },
  "orig_nbformat": 4
 },
 "nbformat": 4,
 "nbformat_minor": 2
}
