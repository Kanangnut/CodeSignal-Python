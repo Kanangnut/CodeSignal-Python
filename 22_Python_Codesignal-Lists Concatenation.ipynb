{
 "cells": [
  {
   "cell_type": "markdown",
   "metadata": {},
   "source": [
    "There is a bug in one line of the code. Find it, fix it, and submit.\n",
    "Given two lists lst1 and lst2, your task is to return a list formed by the elements of lst1 followed by the elements of lst2.\n",
    "\n",
    "Note: this is a bugfix task, which means that the function is already implemented but there is a bug in one of its lines. Your task is to find and fix it.\n",
    "\n",
    "Example\n",
    "\n",
    "For lst1 = [2, 2, 1] and lst2 = [10, 11], the output should be\n",
    "solution(lst1, lst2) = [2, 2, 1, 10, 11].\n",
    "\n",
    "Input/Output\n",
    "\n",
    "[execution time limit] 4 seconds (py3)\n",
    "\n",
    "[memory limit] 1 GB\n",
    "\n",
    "[input] array.integer lst1\n",
    "\n",
    "Guaranteed constraints:\n",
    "0 ≤ lst1.length ≤ 20,\n",
    "-106 ≤ lst1[i] ≤ 106.\n",
    "\n",
    "[input] array.integer lst2\n",
    "\n",
    "Guaranteed constraints:\n",
    "0 ≤ lst2.length ≤ 20,\n",
    "-106 ≤ lst2[i] ≤ 106.\n",
    "\n",
    "[output] array.integer\n",
    "\n",
    "[Python 3] Syntax Tips\n",
    "\n",
    "# Prints help message to the console\n",
    "# Returns a string\n",
    "def helloWorld(name):\n",
    "    print(\"This prints to the console when you Run Tests\")\n",
    "    return \"Hello, \" + name"
   ]
  },
  {
   "cell_type": "code",
   "execution_count": null,
   "metadata": {
    "vscode": {
     "languageId": "plaintext"
    }
   },
   "outputs": [],
   "source": [
    "def solution(lst1, lst2):\n",
    "    res = lst1\n",
    "    res.extend(lst2)\n",
    "    return res"
   ]
  }
 ],
 "metadata": {
  "kernelspec": {
   "display_name": "Python 3",
   "language": "python",
   "name": "python3"
  },
  "language_info": {
   "codemirror_mode": {
    "name": "ipython",
    "version": 3
   },
   "file_extension": ".py",
   "mimetype": "text/x-python",
   "name": "python",
   "nbconvert_exporter": "python",
   "pygments_lexer": "ipython3",
   "version": "3.11.2"
  },
  "orig_nbformat": 4
 },
 "nbformat": 4,
 "nbformat_minor": 2
}
