{
 "cells": [
  {
   "cell_type": "code",
   "execution_count": null,
   "metadata": {},
   "outputs": [],
   "source": [
    "Implement the missing code, denoted by ellipses. You may not modify the pre-existing code.\n",
    "Not long ago a young Christmas elf asked you to implement a function that creates Christmas trees made of asterisks ('*') similar to the one below:\n",
    "\n",
    "    *    \n",
    "    *    \n",
    "   ***   \n",
    "  *****  \n",
    " ******* \n",
    "*********\n",
    "   ***   \n",
    "Unfortunately because of the extreme coldness the tree that you sent over was corrupted: although its lines are given in the correct order, but are not aligned properly. Now your task is to fix the given tree by centering the asterisks in each line.\n",
    "\n",
    "Example\n",
    "\n",
    "For\n",
    "\n",
    "tree = [\n",
    "  \"      *  \", \n",
    "  \"    *    \", \n",
    "  \"***      \", \n",
    "  \"    *****\", \n",
    "  \"  *******\", \n",
    "  \"*********\", \n",
    "  \" ***     \"\n",
    "]\n",
    "the output should be\n",
    "\n",
    "solution(tree) = [\n",
    "  \"    *    \", \n",
    "  \"    *    \", \n",
    "  \"   ***   \", \n",
    "  \"  *****  \", \n",
    "  \" ******* \", \n",
    "  \"*********\", \n",
    "  \"   ***   \"\n",
    "]\n",
    "Input/Output\n",
    "\n",
    "[execution time limit] 4 seconds (py3)\n",
    "\n",
    "[memory limit] 1 GB\n",
    "\n",
    "[input] array.string tree\n",
    "\n",
    "A list representing a tree, where all strings have the same odd length and have the format \"< ><*>< >\", where < > denotes some (possibly none) whitespace characters, and <*> denotes an odd number of asterisk.\n",
    "\n",
    "Guaranteed constraints:\n",
    "1 ≤ tree.length ≤ 31,\n",
    "1 ≤ tree[0].length ≤ 21.\n",
    "\n",
    "[output] array.string\n",
    "\n",
    "A fixed tree, with asterisks centered in each line.\n",
    "\n",
    "[Python 3] Syntax Tips\n",
    "\n",
    "# Prints help message to the console\n",
    "# Returns a string\n",
    "def helloWorld(name):\n",
    "    print(\"This prints to the console when you Run Tests\")\n",
    "    return \"Hello, \" + name\n"
   ]
  },
  {
   "cell_type": "code",
   "execution_count": null,
   "metadata": {},
   "outputs": [],
   "source": [
    "def solution(tree):\n",
    "    return [a.strip().center(len(a), ' ') for a in tree]\n"
   ]
  }
 ],
 "metadata": {
  "kernelspec": {
   "display_name": "Python 3",
   "language": "python",
   "name": "python3"
  },
  "language_info": {
   "codemirror_mode": {
    "name": "ipython",
    "version": 3
   },
   "file_extension": ".py",
   "mimetype": "text/x-python",
   "name": "python",
   "nbconvert_exporter": "python",
   "pygments_lexer": "ipython3",
   "version": "3.11.2"
  },
  "orig_nbformat": 4
 },
 "nbformat": 4,
 "nbformat_minor": 2
}
