{
 "cells": [
  {
   "cell_type": "markdown",
   "metadata": {},
   "source": [
    "Implement the missing code, denoted by ellipses. You may not modify the pre-existing code.\n",
    "You found an awesome customizable Python IDE that has almost everything you'd like to see in your working environment. However, after a couple days of coding you discover that there is one important feature that this IDE lacks: it cannot convert tabs to spaces. Luckily, the IDE is easily customizable, so you decide to write a plugin that would convert all tabs in the code into the given number of whitespace characters.\n",
    "\n",
    "Implement a function that, given a piece of code and a positive integer x will turn each tabulation character in code into x whitespace characters.\n",
    "\n",
    "Example\n",
    "\n",
    "For code = \"\\treturn False\" and x = 4, the output should be\n",
    "\n",
    "solution(code, x) = \"    return False\"\n",
    "Input/Output\n",
    "\n",
    "[execution time limit] 4 seconds (py)\n",
    "\n",
    "[memory limit] 1 GB\n",
    "\n",
    "[input] string code\n",
    "\n",
    "Your piece of code.\n",
    "\n",
    "Guaranteed constraints:\n",
    "0 ≤ code.length ≤ 1500.\n",
    "\n",
    "[input] integer x\n",
    "\n",
    "The number of whitespace characters (' ') that should replace each occurrence of the tabulation character ('\\t').\n",
    "\n",
    "Guaranteed constraints:\n",
    "1 ≤ x ≤ 16.\n",
    "\n",
    "[output] string\n",
    "\n",
    "The given code with tabulation characters expanded according to x.\n",
    "\n",
    "[Python 2] Syntax Tips\n",
    "\n",
    "# Prints help message to the console\n",
    "# Returns a string\n",
    "def helloWorld(name):\n",
    "    print \"This prints to the console when you Run Tests\"\n",
    "    return \"Hello, \" + name\n"
   ]
  },
  {
   "cell_type": "markdown",
   "metadata": {},
   "source": []
  },
  {
   "cell_type": "code",
   "execution_count": 1,
   "metadata": {},
   "outputs": [],
   "source": [
    "def solution(code, x):\n",
    "    return code.replace(\"\\t\", \" \"*x)\n"
   ]
  }
 ],
 "metadata": {
  "kernelspec": {
   "display_name": "Python 3",
   "language": "python",
   "name": "python3"
  },
  "language_info": {
   "codemirror_mode": {
    "name": "ipython",
    "version": 3
   },
   "file_extension": ".py",
   "mimetype": "text/x-python",
   "name": "python",
   "nbconvert_exporter": "python",
   "pygments_lexer": "ipython3",
   "version": "3.11.2"
  },
  "orig_nbformat": 4
 },
 "nbformat": 4,
 "nbformat_minor": 2
}
