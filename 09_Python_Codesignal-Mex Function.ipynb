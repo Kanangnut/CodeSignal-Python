{
 "cells": [
  {
   "cell_type": "markdown",
   "metadata": {},
   "source": [
    "Implement the missing code, denoted by ellipses. You may not modify the pre-existing code.\n",
    "You've just started to study impartial games, and came across an interesting theory. The theory is quite complicated, but it can be narrowed down to the following statements: solutions to all such games can be found with the mex function. Mex is an abbreviation of minimum excludant: for the given set s it finds the minimum non-negative integer that is not present in s.\n",
    "\n",
    "You don't yet know how to implement such a function efficiently, so would like to create a simplified version. For the given set s and given an upperBound, implement a function that will find its mex if it's smaller than upperBound or return upperBound instead.\n",
    "\n",
    "Hint: for loops also have an else clause which executes when the loop completes normally, i.e. without encountering any breaks\n",
    "\n",
    "Example\n",
    "\n",
    "For s = [0, 4, 2, 3, 1, 7] and upperBound = 10,\n",
    "the output should be\n",
    "solution(s, upperBound) = 5.\n",
    "\n",
    "5 is the smallest non-negative integer that is not present in s, and it is smaller than upperBound.\n",
    "\n",
    "For s = [0, 4, 2, 3, 1, 7] and upperBound = 3,\n",
    "the output should be\n",
    "solution(s, upperBound) = 3.\n",
    "\n",
    "The minimum excludant for the given set is 5, but it's greater than upperBound, so the output should be 3.\n",
    "\n",
    "Input/Output\n",
    "\n",
    "[execution time limit] 4 seconds (py)\n",
    "\n",
    "[memory limit] 1 GB\n",
    "\n",
    "[input] array.integer s\n",
    "\n",
    "Array of distinct non-negative integers.\n",
    "\n",
    "Guaranteed constraints:\n",
    "0 ≤ s.length ≤ 100,\n",
    "0 ≤ s[i] ≤ 100.\n",
    "\n",
    "[input] integer upperBound\n",
    "\n",
    "A positive integer.\n",
    "\n",
    "Guaranteed constraints:\n",
    "1 ≤ upperBound ≤ 100.\n",
    "\n",
    "[output] integer\n",
    "\n",
    "Mex of s if it's smaller than upperBound, or upperBound instead.\n",
    "\n",
    "[Python 2] Syntax Tips\n",
    "\n",
    "# Prints help message to the console\n",
    "# Returns a string\n",
    "def helloWorld(name):\n",
    "    print \"This prints to the console when you Run Tests\"\n",
    "    return \"Hello, \" + name"
   ]
  },
  {
   "cell_type": "code",
   "execution_count": null,
   "metadata": {},
   "outputs": [],
   "source": [
    "def solution(s, upperBound):\n",
    "    found = -1\n",
    "    for i in range(upperBound):\n",
    "        if not i in s:\n",
    "            found = i\n",
    "            break\n",
    "    else:\n",
    "        found = upperBound\n",
    "\n",
    "    return found\n"
   ]
  }
 ],
 "metadata": {
  "language_info": {
   "name": "python"
  },
  "orig_nbformat": 4
 },
 "nbformat": 4,
 "nbformat_minor": 2
}
