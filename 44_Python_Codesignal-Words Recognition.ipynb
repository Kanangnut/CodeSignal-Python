{
 "cells": [
  {
   "cell_type": "markdown",
   "metadata": {},
   "source": []
  },
  {
   "cell_type": "markdown",
   "metadata": {},
   "source": [
    "Words Recognition\n",
    "\n",
    "\n",
    "Implement the missing code, denoted by ellipses. You may not modify the pre-existing code.\n",
    "You are working on an AI that can recognize words. To begin with, you'd like to try the following approach: for the given pair of words the AI should find two strings of sorted letters that uniquely identify these words.\n",
    "\n",
    "Given words word1 and word2, return an array of two strings sorted lexicographically, where the first string contains characters present only in word1, and the second string contains characters present only in word2.\n",
    "\n",
    "Example\n",
    "\n",
    "For word1 = \"program\" and word2 = \"develop\",\n",
    "the output should be\n",
    "solution(word1, word2) = [\"agmr\", \"delv\"].\n",
    "\n",
    "Letters 'o' and 'p' are present in both words, and other letters identify them uniquely.\n",
    "\n",
    "Input/Output\n",
    "\n",
    "[execution time limit] 4 seconds (py3)\n",
    "\n",
    "[memory limit] 1 GB\n",
    "\n",
    "[input] string word1\n",
    "\n",
    "The first word consisting of lowercase English letters.\n",
    "\n",
    "Guaranteed constraints:\n",
    "1 ≤ word1.length ≤ 20.\n",
    "\n",
    "[input] string word2\n",
    "\n",
    "The second word consisting of lowercase English letters.\n",
    "\n",
    "Guaranteed constraints:\n",
    "1 ≤ word2.length ≤ 20.\n",
    "\n",
    "[output] array.string\n",
    "\n",
    "Array of two strings sorted lexicographically, where the first string uniquely identifies the first word, and the second string uniquely identifies the second word.\n",
    "\n",
    "[Python 3] Syntax Tips\n",
    "\n",
    "# Prints help message to the console\n",
    "# Returns a string\n",
    "def helloWorld(name):\n",
    "    print(\"This prints to the console when you Run Tests\")\n",
    "    return \"Hello, \" + name"
   ]
  },
  {
   "cell_type": "code",
   "execution_count": null,
   "metadata": {
    "vscode": {
     "languageId": "plaintext"
    }
   },
   "outputs": [],
   "source": [
    "def solution(word1, word2):\n",
    "    def getIdentifier(w1, w2):\n",
    "        return \"\".join(sorted(set(w1)-set(w2))) \n",
    "\n",
    "    return [getIdentifier(word1, word2), getIdentifier(word2, word1)]\n"
   ]
  }
 ],
 "metadata": {
  "kernelspec": {
   "display_name": "Python 3",
   "language": "python",
   "name": "python3"
  },
  "language_info": {
   "codemirror_mode": {
    "name": "ipython",
    "version": 3
   },
   "file_extension": ".py",
   "mimetype": "text/x-python",
   "name": "python",
   "nbconvert_exporter": "python",
   "pygments_lexer": "ipython3",
   "version": "3.11.2"
  },
  "orig_nbformat": 4
 },
 "nbformat": 4,
 "nbformat_minor": 2
}
