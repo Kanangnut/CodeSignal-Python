{
 "cells": [
  {
   "cell_type": "code",
   "execution_count": null,
   "metadata": {},
   "outputs": [],
   "source": [
    "Implement the missing code, denoted by ellipses. You may not modify the pre-existing code.\n",
    "You've been training your whole life, and now your dreams finally came true: you are a member of the best Crazyball team in the world! Unfortunately since your team is one of only two teams that play Crazyball, there are already many players in it, including yourself. For the starting lineup on the upcoming game the coach will pick k players, and you're curious if it's possible for you to make it there.\n",
    "\n",
    "To calculate the odds of being a starter, you'd like to come up with a list of all possible lineups. Given the list of the players and the number of players k the coach has to pick, return all possible lineups sorted lexicographically. Players in each lineup should also be sorted lexicographically.\n",
    "\n",
    "Example\n",
    "\n",
    "For players = [\"Ninja\", \"Warrior\", \"Trainee\", \"Newbie\"] and k = 3,\n",
    "the output should be\n",
    "\n",
    "solution(players, k) = [[\"Newbie\", \"Ninja\", \"Trainee\"], \n",
    "                        [\"Newbie\", \"Ninja\", \"Warrior\"], \n",
    "                        [\"Newbie\", \"Trainee\", \"Warrior\"], \n",
    "                        [\"Ninja\", \"Trainee\", \"Warrior\"]]\n",
    "Input/Output\n",
    "\n",
    "[execution time limit] 4 seconds (py3)\n",
    "\n",
    "[memory limit] 1 GB\n",
    "\n",
    "[input] array.string players\n",
    "\n",
    "Array of distinct strings, where each string is player name. Each name may consist of English letters and whitespace characters.\n",
    "\n",
    "Guaranteed constraints:\n",
    "1 ≤ players.length ≤ 10,\n",
    "2 ≤ players[i].length ≤ 15.\n",
    "\n",
    "[input] integer k\n",
    "\n",
    "The number of players the coach should pick for the lineup.\n",
    "\n",
    "Guaranteed constraints:\n",
    "1 ≤ k ≤ players.length.\n",
    "\n",
    "[output] array.array.string\n",
    "\n",
    "Array of all possible lineups sorted as described above.\n",
    "\n",
    "[Python 3] Syntax Tips\n",
    "\n",
    "# Prints help message to the console\n",
    "# Returns a string\n",
    "def helloWorld(name):\n",
    "    print(\"This prints to the console when you Run Tests\")\n",
    "    return \"Hello, \" + name"
   ]
  },
  {
   "cell_type": "code",
   "execution_count": null,
   "metadata": {},
   "outputs": [],
   "source": [
    "from itertools import combinations\n",
    "\n",
    "def solution(players, k):\n",
    "    return list(combinations(sorted(players), k))\n"
   ]
  }
 ],
 "metadata": {
  "kernelspec": {
   "display_name": "Python 3",
   "language": "python",
   "name": "python3"
  },
  "language_info": {
   "codemirror_mode": {
    "name": "ipython",
    "version": 3
   },
   "file_extension": ".py",
   "mimetype": "text/x-python",
   "name": "python",
   "nbconvert_exporter": "python",
   "pygments_lexer": "ipython3",
   "version": "3.11.2"
  },
  "orig_nbformat": 4
 },
 "nbformat": 4,
 "nbformat_minor": 2
}
