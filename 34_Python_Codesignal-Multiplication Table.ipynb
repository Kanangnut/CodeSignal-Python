{
 "cells": [
  {
   "cell_type": "markdown",
   "metadata": {},
   "source": [
    "Implement the missing code, denoted by ellipses. You may not modify the pre-existing code.\n",
    "Looks like your little brother doesn't want to remember the multiplication table! Instead he wants to play videogames all day long. To teach him a lesson you'd like to write a virus that will pop up in the middle of the game and disappear only when the brother correctly solves several math questions.\n",
    "\n",
    "To begin with, you need to construct a multiplication table. Given an integer n, return the multiplication table of size n × n.\n",
    "\n",
    "Example\n",
    "\n",
    "For n = 5, the output should be\n",
    "\n",
    "solution(n) = [[1, 2,  3,  4,  5 ], \n",
    "               [2, 4,  6,  8,  10], \n",
    "               [3, 6,  9,  12, 15], \n",
    "               [4, 8,  12, 16, 20], \n",
    "               [5, 10, 15, 20, 25]]\n",
    "Input/Output\n",
    "\n",
    "[execution time limit] 4 seconds (py3)\n",
    "\n",
    "[memory limit] 1 GB\n",
    "\n",
    "[input] integer n\n",
    "\n",
    "The size of the multiplication table.\n",
    "\n",
    "Guaranteed constraints:\n",
    "2 ≤ n ≤ 30.\n",
    "\n",
    "[output] array.array.integer\n",
    "\n",
    "Multiplication table of size n × n, i.e. a square matrix that has value i * j at the intersection of the ith row and the jth column (both 1-based).\n",
    "\n",
    "[Python 3] Syntax Tips\n",
    "\n",
    "# Prints help message to the console\n",
    "# Returns a string\n",
    "def helloWorld(name):\n",
    "    print(\"This prints to the console when you Run Tests\")\n",
    "    return \"Hello, \" + name"
   ]
  },
  {
   "cell_type": "code",
   "execution_count": 1,
   "metadata": {},
   "outputs": [],
   "source": [
    "def solution(n):\n",
    "    return [[x*y for x in range(1, n+1)] for y in range(1, n+1)]"
   ]
  }
 ],
 "metadata": {
  "kernelspec": {
   "display_name": "Python 3",
   "language": "python",
   "name": "python3"
  },
  "language_info": {
   "codemirror_mode": {
    "name": "ipython",
    "version": 3
   },
   "file_extension": ".py",
   "mimetype": "text/x-python",
   "name": "python",
   "nbconvert_exporter": "python",
   "pygments_lexer": "ipython3",
   "version": "3.11.2"
  },
  "orig_nbformat": 4
 },
 "nbformat": 4,
 "nbformat_minor": 2
}
